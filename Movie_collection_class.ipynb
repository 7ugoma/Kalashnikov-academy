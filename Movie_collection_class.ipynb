{
  "nbformat": 4,
  "nbformat_minor": 0,
  "metadata": {
    "colab": {
      "provenance": []
    },
    "kernelspec": {
      "name": "python3",
      "display_name": "Python 3"
    },
    "language_info": {
      "name": "python"
    }
  },
  "cells": [
    {
      "cell_type": "code",
      "execution_count": 32,
      "metadata": {
        "id": "rX1DxOhqQA_Z"
      },
      "outputs": [],
      "source": [
        "from datetime import datetime\n",
        "import traceback"
      ]
    },
    {
      "cell_type": "code",
      "source": [
        "class Film:\n",
        "  def __init__(self, name, genre, date, raiting):\n",
        "    self.name = name\n",
        "    self.genre = genre\n",
        "    self.date = date\n",
        "    self.raiting = raiting"
      ],
      "metadata": {
        "id": "hnraJ3LTQaEw"
      },
      "execution_count": 33,
      "outputs": []
    },
    {
      "cell_type": "code",
      "source": [
        "class Movie_Collection:\n",
        "  def __init__(self):\n",
        "    self.movies = {}\n",
        "\n",
        "  def add_film(self,film):\n",
        "    self.movies[film.name] = list(map(lambda x:x.lower(), map(str,[film.genre,film.date,film.raiting])))\n",
        "    return f\"Film named {film.name} added to the movie collection\"\n",
        "\n",
        "  def remove_film(self,name):\n",
        "    try:\n",
        "      del self.movies[name]\n",
        "      return f\"Film named {name} was removed from movie collection\"\n",
        "    except Exception as e:\n",
        "      with open('logs.txt', 'a') as log:\n",
        "        log.write(f\"\\n{'-' * 50}\\n\")\n",
        "        log.write(f\"Error occured at {datetime.now()}\\n\")\n",
        "        log.write(f\"Error {str(e)}\\n\")\n",
        "        log.write(f\"Traceback:\\n{traceback.format_exc()}\\n\")\n",
        "      log.close()\n",
        "      print(f\"There is no film named {name} to remove\")\n",
        "\n",
        "  def search_genre(self,genre):\n",
        "    array = []\n",
        "    for i in self.movies:\n",
        "      if genre.lower() in self.movies[i]:\n",
        "        array.append((i,*self.movies[i]))\n",
        "    if array:\n",
        "      return array\n",
        "    else:\n",
        "      return f\"There are no films with genre - {genre} in movie collection\"\n",
        "\n",
        "  def print_all(self):\n",
        "    for i in self.movies:\n",
        "      print(i,*self.movies[i])"
      ],
      "metadata": {
        "id": "eyyqRzeJUL21"
      },
      "execution_count": 34,
      "outputs": []
    },
    {
      "cell_type": "code",
      "source": [
        "Abracadabra = Film(\"Abracadabra\", \"Adventure\", 9238, 8.1)\n",
        "Star_wars2 = Film(\"Star wars2\", \"Adventure\", 9238, 8.1)\n",
        "Inception = Film(\"Inception\", \"Sci-fi\", 2010, 8.8)\n",
        "collection = Movie_Collection()\n",
        "collection.add_film(Abracadabra)\n",
        "collection.add_film(Star_wars2)\n",
        "collection.add_film(Inception)"
      ],
      "metadata": {
        "colab": {
          "base_uri": "https://localhost:8080/",
          "height": 35
        },
        "id": "J_zuaqybW2Az",
        "outputId": "b4103f70-56cd-4ea5-9dc2-eb7328cec8fa"
      },
      "execution_count": 35,
      "outputs": [
        {
          "output_type": "execute_result",
          "data": {
            "text/plain": [
              "'Film named Inception added to the movie collection'"
            ],
            "application/vnd.google.colaboratory.intrinsic+json": {
              "type": "string"
            }
          },
          "metadata": {},
          "execution_count": 35
        }
      ]
    },
    {
      "cell_type": "code",
      "source": [
        "collection.print_all()"
      ],
      "metadata": {
        "colab": {
          "base_uri": "https://localhost:8080/"
        },
        "id": "iR9VudyPW90A",
        "outputId": "b6b9af56-c92d-4d38-ef87-ce44c4c8de80"
      },
      "execution_count": 36,
      "outputs": [
        {
          "output_type": "stream",
          "name": "stdout",
          "text": [
            "Abracadabra adventure 9238 8.1\n",
            "Star wars2 adventure 9238 8.1\n",
            "Inception sci-fi 2010 8.8\n"
          ]
        }
      ]
    },
    {
      "cell_type": "code",
      "source": [
        "collection.search_genre(\"Adventure\")"
      ],
      "metadata": {
        "colab": {
          "base_uri": "https://localhost:8080/"
        },
        "id": "6QqnYVuyXBrt",
        "outputId": "d725dc9b-8b6c-4923-8209-b15ef2aea20d"
      },
      "execution_count": 37,
      "outputs": [
        {
          "output_type": "execute_result",
          "data": {
            "text/plain": [
              "[('Abracadabra', 'adventure', '9238', '8.1'),\n",
              " ('Star wars2', 'adventure', '9238', '8.1')]"
            ]
          },
          "metadata": {},
          "execution_count": 37
        }
      ]
    },
    {
      "cell_type": "code",
      "source": [
        "collection.search_genre(\"Action\")"
      ],
      "metadata": {
        "colab": {
          "base_uri": "https://localhost:8080/",
          "height": 35
        },
        "id": "h-GrG2_6Y-Kp",
        "outputId": "8a0e6cad-dac1-4801-ea44-54b4746a5072"
      },
      "execution_count": 41,
      "outputs": [
        {
          "output_type": "execute_result",
          "data": {
            "text/plain": [
              "'There are no films with genre - Action in movie collection'"
            ],
            "application/vnd.google.colaboratory.intrinsic+json": {
              "type": "string"
            }
          },
          "metadata": {},
          "execution_count": 41
        }
      ]
    },
    {
      "cell_type": "code",
      "source": [
        "collection.remove_film(\"Van helsing\")"
      ],
      "metadata": {
        "colab": {
          "base_uri": "https://localhost:8080/"
        },
        "id": "bCLAzwjFXHub",
        "outputId": "1db80a06-90c7-4b93-eb8b-cec7c691e272"
      },
      "execution_count": 38,
      "outputs": [
        {
          "output_type": "stream",
          "name": "stdout",
          "text": [
            "There is no film named Van helsing to remove\n"
          ]
        }
      ]
    },
    {
      "cell_type": "code",
      "source": [
        "collection.remove_film(\"Abracadabra\")"
      ],
      "metadata": {
        "colab": {
          "base_uri": "https://localhost:8080/",
          "height": 35
        },
        "id": "B5UKOCYzXmF_",
        "outputId": "c8da7d78-0a2c-437e-9086-4a9f7cb74f9c"
      },
      "execution_count": 39,
      "outputs": [
        {
          "output_type": "execute_result",
          "data": {
            "text/plain": [
              "'Film named Abracadabra was removed from movie collection'"
            ],
            "application/vnd.google.colaboratory.intrinsic+json": {
              "type": "string"
            }
          },
          "metadata": {},
          "execution_count": 39
        }
      ]
    },
    {
      "cell_type": "code",
      "source": [
        "collection.print_all()"
      ],
      "metadata": {
        "colab": {
          "base_uri": "https://localhost:8080/"
        },
        "id": "-XAUKFFtY1M2",
        "outputId": "69ed7911-c9a8-4c89-e860-85205931abdb"
      },
      "execution_count": 40,
      "outputs": [
        {
          "output_type": "stream",
          "name": "stdout",
          "text": [
            "Star wars2 adventure 9238 8.1\n",
            "Inception sci-fi 2010 8.8\n"
          ]
        }
      ]
    },
    {
      "cell_type": "code",
      "source": [],
      "metadata": {
        "id": "2_Ff_3PvY4I9"
      },
      "execution_count": null,
      "outputs": []
    }
  ]
}