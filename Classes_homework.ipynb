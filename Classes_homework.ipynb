{
  "nbformat": 4,
  "nbformat_minor": 0,
  "metadata": {
    "colab": {
      "provenance": []
    },
    "kernelspec": {
      "name": "python3",
      "display_name": "Python 3"
    },
    "language_info": {
      "name": "python"
    }
  },
  "cells": [
    {
      "cell_type": "code",
      "execution_count": 16,
      "metadata": {
        "colab": {
          "base_uri": "https://localhost:8080/"
        },
        "id": "itafU5JzTY3U",
        "outputId": "b5b104ee-ca07-483e-8977-25661ac57bca"
      },
      "outputs": [
        {
          "output_type": "stream",
          "name": "stdout",
          "text": [
            "Tesla Cybertruck с батареей 100 kWh запускает электрический двигатель.\n",
            "Toyota Supra с баком 70 литров запускает бензиновый двигатель.\n"
          ]
        }
      ],
      "source": [
        "class Car:\n",
        "    def __init__(self,mark,model):\n",
        "      self.mark = mark\n",
        "      self.model = model\n",
        "\n",
        "    def start_engine(self):\n",
        "        pass\n",
        "\n",
        "class ElectricCar(Car):\n",
        "    def __init__(self, mark, model, battery_size):\n",
        "        super().__init__(mark, model)\n",
        "        self.battery_size = battery_size\n",
        "    def start_engine(self):\n",
        "        return f\"{self.mark} {self.model} с батареей {self.battery_size} kWh запускает электрический двигатель.\"\n",
        "\n",
        "class GasolineCar(Car):\n",
        "    def __init__(self, mark, model, fuel_capacity):\n",
        "        super().__init__(mark, model)\n",
        "        self.fuel_capacity = fuel_capacity\n",
        "\n",
        "    def start_engine(self):\n",
        "        return f\"{self.mark} {self.model} с баком {self.fuel_capacity} литров запускает бензиновый двигатель.\"\n",
        "\n",
        "electric_car = ElectricCar(\"Tesla\", \"Cybertruck\", 100)\n",
        "gasoline_car = GasolineCar(\"Toyota\", \"Supra\", 70)\n",
        "\n",
        "print(electric_car.start_engine())\n",
        "print(gasoline_car.start_engine())\n"
      ]
    }
  ]
}