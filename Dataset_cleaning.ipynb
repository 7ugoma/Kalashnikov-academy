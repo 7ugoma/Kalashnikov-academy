{
  "nbformat": 4,
  "nbformat_minor": 0,
  "metadata": {
    "colab": {
      "provenance": []
    },
    "kernelspec": {
      "name": "python3",
      "display_name": "Python 3"
    },
    "language_info": {
      "name": "python"
    }
  },
  "cells": [
    {
      "cell_type": "code",
      "execution_count": 129,
      "metadata": {
        "id": "gSFuOi9R4n2w"
      },
      "outputs": [],
      "source": [
        "import matplotlib.pyplot as plt\n",
        "import pandas as pd\n",
        "import numpy as np\n",
        "import seaborn as sns\n",
        "from abc import ABC,abstractmethod"
      ]
    },
    {
      "cell_type": "code",
      "source": [
        "df = pd.read_csv(\"/content/Airbnb_Open_Data.csv\")"
      ],
      "metadata": {
        "colab": {
          "base_uri": "https://localhost:8080/"
        },
        "id": "1YxgMIUj479s",
        "outputId": "725ea623-72f5-4b57-cde0-bad840a9b9e9"
      },
      "execution_count": 64,
      "outputs": [
        {
          "output_type": "stream",
          "name": "stderr",
          "text": [
            "<ipython-input-64-33e45a96c0cf>:1: DtypeWarning: Columns (25) have mixed types. Specify dtype option on import or set low_memory=False.\n",
            "  df = pd.read_csv(\"/content/Airbnb_Open_Data.csv\")\n"
          ]
        }
      ]
    },
    {
      "cell_type": "code",
      "source": [
        "df"
      ],
      "metadata": {
        "colab": {
          "base_uri": "https://localhost:8080/",
          "height": 982
        },
        "id": "-VPdVJTsPs3v",
        "outputId": "4c59be14-11aa-404e-f785-08783e857384"
      },
      "execution_count": 65,
      "outputs": [
        {
          "output_type": "execute_result",
          "data": {
            "text/plain": [
              "             id                                              NAME  \\\n",
              "0       1001254                Clean & quiet apt home by the park   \n",
              "1       1002102                             Skylit Midtown Castle   \n",
              "2       1002403               THE VILLAGE OF HARLEM....NEW YORK !   \n",
              "3       1002755                                               NaN   \n",
              "4       1003689  Entire Apt: Spacious Studio/Loft by central park   \n",
              "...         ...                                               ...   \n",
              "102594  6092437                        Spare room in Williamsburg   \n",
              "102595  6092990                     Best Location near Columbia U   \n",
              "102596  6093542                    Comfy, bright room in Brooklyn   \n",
              "102597  6094094                  Big Studio-One Stop from Midtown   \n",
              "102598  6094647                              585 sf Luxury Studio   \n",
              "\n",
              "            host id host_identity_verified    host name neighbourhood group  \\\n",
              "0       80014485718            unconfirmed     Madaline            Brooklyn   \n",
              "1       52335172823               verified        Jenna           Manhattan   \n",
              "2       78829239556                    NaN        Elise           Manhattan   \n",
              "3       85098326012            unconfirmed        Garry            Brooklyn   \n",
              "4       92037596077               verified       Lyndon           Manhattan   \n",
              "...             ...                    ...          ...                 ...   \n",
              "102594  12312296767               verified         Krik            Brooklyn   \n",
              "102595  77864383453            unconfirmed        Mifan           Manhattan   \n",
              "102596  69050334417            unconfirmed        Megan            Brooklyn   \n",
              "102597  11160591270            unconfirmed  Christopher              Queens   \n",
              "102598  68170633372            unconfirmed      Rebecca           Manhattan   \n",
              "\n",
              "              neighbourhood       lat      long        country  ...  \\\n",
              "0                Kensington  40.64749 -73.97237  United States  ...   \n",
              "1                   Midtown  40.75362 -73.98377  United States  ...   \n",
              "2                    Harlem  40.80902 -73.94190  United States  ...   \n",
              "3              Clinton Hill  40.68514 -73.95976  United States  ...   \n",
              "4               East Harlem  40.79851 -73.94399  United States  ...   \n",
              "...                     ...       ...       ...            ...  ...   \n",
              "102594         Williamsburg  40.70862 -73.94651  United States  ...   \n",
              "102595  Morningside Heights  40.80460 -73.96545  United States  ...   \n",
              "102596           Park Slope  40.67505 -73.98045  United States  ...   \n",
              "102597     Long Island City  40.74989 -73.93777  United States  ...   \n",
              "102598      Upper West Side  40.76807 -73.98342  United States  ...   \n",
              "\n",
              "       service fee minimum nights number of reviews last review  \\\n",
              "0            $193            10.0               9.0  10/19/2021   \n",
              "1             $28            30.0              45.0   5/21/2022   \n",
              "2            $124             3.0               0.0         NaN   \n",
              "3             $74            30.0             270.0    7/5/2019   \n",
              "4             $41            10.0               9.0  11/19/2018   \n",
              "...            ...            ...               ...         ...   \n",
              "102594       $169             1.0               0.0         NaN   \n",
              "102595       $167             1.0               1.0    7/6/2015   \n",
              "102596       $198             3.0               0.0         NaN   \n",
              "102597       $109             2.0               5.0  10/11/2015   \n",
              "102598       $206             1.0               0.0         NaN   \n",
              "\n",
              "        reviews per month review rate number calculated host listings count  \\\n",
              "0                    0.21                4.0                            6.0   \n",
              "1                    0.38                4.0                            2.0   \n",
              "2                     NaN                5.0                            1.0   \n",
              "3                    4.64                4.0                            1.0   \n",
              "4                    0.10                3.0                            1.0   \n",
              "...                   ...                ...                            ...   \n",
              "102594                NaN                3.0                            1.0   \n",
              "102595               0.02                2.0                            2.0   \n",
              "102596                NaN                5.0                            1.0   \n",
              "102597               0.10                3.0                            1.0   \n",
              "102598                NaN                3.0                            1.0   \n",
              "\n",
              "        availability 365                                        house_rules  \\\n",
              "0                  286.0  Clean up and treat the home the way you'd like...   \n",
              "1                  228.0  Pet friendly but please confirm with me if the...   \n",
              "2                  352.0  I encourage you to use my kitchen, cooking and...   \n",
              "3                  322.0                                                NaN   \n",
              "4                  289.0  Please no smoking in the house, porch or on th...   \n",
              "...                  ...                                                ...   \n",
              "102594             227.0  No Smoking No Parties or Events of any kind Pl...   \n",
              "102595             395.0  House rules: Guests agree to the following ter...   \n",
              "102596             342.0                                                NaN   \n",
              "102597             386.0                                                NaN   \n",
              "102598              69.0                                                NaN   \n",
              "\n",
              "       license  \n",
              "0          NaN  \n",
              "1          NaN  \n",
              "2          NaN  \n",
              "3          NaN  \n",
              "4          NaN  \n",
              "...        ...  \n",
              "102594     NaN  \n",
              "102595     NaN  \n",
              "102596     NaN  \n",
              "102597     NaN  \n",
              "102598     NaN  \n",
              "\n",
              "[102599 rows x 26 columns]"
            ],
            "text/html": [
              "\n",
              "  <div id=\"df-0902f183-453f-44a3-9c04-cd709c8cf1ce\" class=\"colab-df-container\">\n",
              "    <div>\n",
              "<style scoped>\n",
              "    .dataframe tbody tr th:only-of-type {\n",
              "        vertical-align: middle;\n",
              "    }\n",
              "\n",
              "    .dataframe tbody tr th {\n",
              "        vertical-align: top;\n",
              "    }\n",
              "\n",
              "    .dataframe thead th {\n",
              "        text-align: right;\n",
              "    }\n",
              "</style>\n",
              "<table border=\"1\" class=\"dataframe\">\n",
              "  <thead>\n",
              "    <tr style=\"text-align: right;\">\n",
              "      <th></th>\n",
              "      <th>id</th>\n",
              "      <th>NAME</th>\n",
              "      <th>host id</th>\n",
              "      <th>host_identity_verified</th>\n",
              "      <th>host name</th>\n",
              "      <th>neighbourhood group</th>\n",
              "      <th>neighbourhood</th>\n",
              "      <th>lat</th>\n",
              "      <th>long</th>\n",
              "      <th>country</th>\n",
              "      <th>...</th>\n",
              "      <th>service fee</th>\n",
              "      <th>minimum nights</th>\n",
              "      <th>number of reviews</th>\n",
              "      <th>last review</th>\n",
              "      <th>reviews per month</th>\n",
              "      <th>review rate number</th>\n",
              "      <th>calculated host listings count</th>\n",
              "      <th>availability 365</th>\n",
              "      <th>house_rules</th>\n",
              "      <th>license</th>\n",
              "    </tr>\n",
              "  </thead>\n",
              "  <tbody>\n",
              "    <tr>\n",
              "      <th>0</th>\n",
              "      <td>1001254</td>\n",
              "      <td>Clean &amp; quiet apt home by the park</td>\n",
              "      <td>80014485718</td>\n",
              "      <td>unconfirmed</td>\n",
              "      <td>Madaline</td>\n",
              "      <td>Brooklyn</td>\n",
              "      <td>Kensington</td>\n",
              "      <td>40.64749</td>\n",
              "      <td>-73.97237</td>\n",
              "      <td>United States</td>\n",
              "      <td>...</td>\n",
              "      <td>$193</td>\n",
              "      <td>10.0</td>\n",
              "      <td>9.0</td>\n",
              "      <td>10/19/2021</td>\n",
              "      <td>0.21</td>\n",
              "      <td>4.0</td>\n",
              "      <td>6.0</td>\n",
              "      <td>286.0</td>\n",
              "      <td>Clean up and treat the home the way you'd like...</td>\n",
              "      <td>NaN</td>\n",
              "    </tr>\n",
              "    <tr>\n",
              "      <th>1</th>\n",
              "      <td>1002102</td>\n",
              "      <td>Skylit Midtown Castle</td>\n",
              "      <td>52335172823</td>\n",
              "      <td>verified</td>\n",
              "      <td>Jenna</td>\n",
              "      <td>Manhattan</td>\n",
              "      <td>Midtown</td>\n",
              "      <td>40.75362</td>\n",
              "      <td>-73.98377</td>\n",
              "      <td>United States</td>\n",
              "      <td>...</td>\n",
              "      <td>$28</td>\n",
              "      <td>30.0</td>\n",
              "      <td>45.0</td>\n",
              "      <td>5/21/2022</td>\n",
              "      <td>0.38</td>\n",
              "      <td>4.0</td>\n",
              "      <td>2.0</td>\n",
              "      <td>228.0</td>\n",
              "      <td>Pet friendly but please confirm with me if the...</td>\n",
              "      <td>NaN</td>\n",
              "    </tr>\n",
              "    <tr>\n",
              "      <th>2</th>\n",
              "      <td>1002403</td>\n",
              "      <td>THE VILLAGE OF HARLEM....NEW YORK !</td>\n",
              "      <td>78829239556</td>\n",
              "      <td>NaN</td>\n",
              "      <td>Elise</td>\n",
              "      <td>Manhattan</td>\n",
              "      <td>Harlem</td>\n",
              "      <td>40.80902</td>\n",
              "      <td>-73.94190</td>\n",
              "      <td>United States</td>\n",
              "      <td>...</td>\n",
              "      <td>$124</td>\n",
              "      <td>3.0</td>\n",
              "      <td>0.0</td>\n",
              "      <td>NaN</td>\n",
              "      <td>NaN</td>\n",
              "      <td>5.0</td>\n",
              "      <td>1.0</td>\n",
              "      <td>352.0</td>\n",
              "      <td>I encourage you to use my kitchen, cooking and...</td>\n",
              "      <td>NaN</td>\n",
              "    </tr>\n",
              "    <tr>\n",
              "      <th>3</th>\n",
              "      <td>1002755</td>\n",
              "      <td>NaN</td>\n",
              "      <td>85098326012</td>\n",
              "      <td>unconfirmed</td>\n",
              "      <td>Garry</td>\n",
              "      <td>Brooklyn</td>\n",
              "      <td>Clinton Hill</td>\n",
              "      <td>40.68514</td>\n",
              "      <td>-73.95976</td>\n",
              "      <td>United States</td>\n",
              "      <td>...</td>\n",
              "      <td>$74</td>\n",
              "      <td>30.0</td>\n",
              "      <td>270.0</td>\n",
              "      <td>7/5/2019</td>\n",
              "      <td>4.64</td>\n",
              "      <td>4.0</td>\n",
              "      <td>1.0</td>\n",
              "      <td>322.0</td>\n",
              "      <td>NaN</td>\n",
              "      <td>NaN</td>\n",
              "    </tr>\n",
              "    <tr>\n",
              "      <th>4</th>\n",
              "      <td>1003689</td>\n",
              "      <td>Entire Apt: Spacious Studio/Loft by central park</td>\n",
              "      <td>92037596077</td>\n",
              "      <td>verified</td>\n",
              "      <td>Lyndon</td>\n",
              "      <td>Manhattan</td>\n",
              "      <td>East Harlem</td>\n",
              "      <td>40.79851</td>\n",
              "      <td>-73.94399</td>\n",
              "      <td>United States</td>\n",
              "      <td>...</td>\n",
              "      <td>$41</td>\n",
              "      <td>10.0</td>\n",
              "      <td>9.0</td>\n",
              "      <td>11/19/2018</td>\n",
              "      <td>0.10</td>\n",
              "      <td>3.0</td>\n",
              "      <td>1.0</td>\n",
              "      <td>289.0</td>\n",
              "      <td>Please no smoking in the house, porch or on th...</td>\n",
              "      <td>NaN</td>\n",
              "    </tr>\n",
              "    <tr>\n",
              "      <th>...</th>\n",
              "      <td>...</td>\n",
              "      <td>...</td>\n",
              "      <td>...</td>\n",
              "      <td>...</td>\n",
              "      <td>...</td>\n",
              "      <td>...</td>\n",
              "      <td>...</td>\n",
              "      <td>...</td>\n",
              "      <td>...</td>\n",
              "      <td>...</td>\n",
              "      <td>...</td>\n",
              "      <td>...</td>\n",
              "      <td>...</td>\n",
              "      <td>...</td>\n",
              "      <td>...</td>\n",
              "      <td>...</td>\n",
              "      <td>...</td>\n",
              "      <td>...</td>\n",
              "      <td>...</td>\n",
              "      <td>...</td>\n",
              "      <td>...</td>\n",
              "    </tr>\n",
              "    <tr>\n",
              "      <th>102594</th>\n",
              "      <td>6092437</td>\n",
              "      <td>Spare room in Williamsburg</td>\n",
              "      <td>12312296767</td>\n",
              "      <td>verified</td>\n",
              "      <td>Krik</td>\n",
              "      <td>Brooklyn</td>\n",
              "      <td>Williamsburg</td>\n",
              "      <td>40.70862</td>\n",
              "      <td>-73.94651</td>\n",
              "      <td>United States</td>\n",
              "      <td>...</td>\n",
              "      <td>$169</td>\n",
              "      <td>1.0</td>\n",
              "      <td>0.0</td>\n",
              "      <td>NaN</td>\n",
              "      <td>NaN</td>\n",
              "      <td>3.0</td>\n",
              "      <td>1.0</td>\n",
              "      <td>227.0</td>\n",
              "      <td>No Smoking No Parties or Events of any kind Pl...</td>\n",
              "      <td>NaN</td>\n",
              "    </tr>\n",
              "    <tr>\n",
              "      <th>102595</th>\n",
              "      <td>6092990</td>\n",
              "      <td>Best Location near Columbia U</td>\n",
              "      <td>77864383453</td>\n",
              "      <td>unconfirmed</td>\n",
              "      <td>Mifan</td>\n",
              "      <td>Manhattan</td>\n",
              "      <td>Morningside Heights</td>\n",
              "      <td>40.80460</td>\n",
              "      <td>-73.96545</td>\n",
              "      <td>United States</td>\n",
              "      <td>...</td>\n",
              "      <td>$167</td>\n",
              "      <td>1.0</td>\n",
              "      <td>1.0</td>\n",
              "      <td>7/6/2015</td>\n",
              "      <td>0.02</td>\n",
              "      <td>2.0</td>\n",
              "      <td>2.0</td>\n",
              "      <td>395.0</td>\n",
              "      <td>House rules: Guests agree to the following ter...</td>\n",
              "      <td>NaN</td>\n",
              "    </tr>\n",
              "    <tr>\n",
              "      <th>102596</th>\n",
              "      <td>6093542</td>\n",
              "      <td>Comfy, bright room in Brooklyn</td>\n",
              "      <td>69050334417</td>\n",
              "      <td>unconfirmed</td>\n",
              "      <td>Megan</td>\n",
              "      <td>Brooklyn</td>\n",
              "      <td>Park Slope</td>\n",
              "      <td>40.67505</td>\n",
              "      <td>-73.98045</td>\n",
              "      <td>United States</td>\n",
              "      <td>...</td>\n",
              "      <td>$198</td>\n",
              "      <td>3.0</td>\n",
              "      <td>0.0</td>\n",
              "      <td>NaN</td>\n",
              "      <td>NaN</td>\n",
              "      <td>5.0</td>\n",
              "      <td>1.0</td>\n",
              "      <td>342.0</td>\n",
              "      <td>NaN</td>\n",
              "      <td>NaN</td>\n",
              "    </tr>\n",
              "    <tr>\n",
              "      <th>102597</th>\n",
              "      <td>6094094</td>\n",
              "      <td>Big Studio-One Stop from Midtown</td>\n",
              "      <td>11160591270</td>\n",
              "      <td>unconfirmed</td>\n",
              "      <td>Christopher</td>\n",
              "      <td>Queens</td>\n",
              "      <td>Long Island City</td>\n",
              "      <td>40.74989</td>\n",
              "      <td>-73.93777</td>\n",
              "      <td>United States</td>\n",
              "      <td>...</td>\n",
              "      <td>$109</td>\n",
              "      <td>2.0</td>\n",
              "      <td>5.0</td>\n",
              "      <td>10/11/2015</td>\n",
              "      <td>0.10</td>\n",
              "      <td>3.0</td>\n",
              "      <td>1.0</td>\n",
              "      <td>386.0</td>\n",
              "      <td>NaN</td>\n",
              "      <td>NaN</td>\n",
              "    </tr>\n",
              "    <tr>\n",
              "      <th>102598</th>\n",
              "      <td>6094647</td>\n",
              "      <td>585 sf Luxury Studio</td>\n",
              "      <td>68170633372</td>\n",
              "      <td>unconfirmed</td>\n",
              "      <td>Rebecca</td>\n",
              "      <td>Manhattan</td>\n",
              "      <td>Upper West Side</td>\n",
              "      <td>40.76807</td>\n",
              "      <td>-73.98342</td>\n",
              "      <td>United States</td>\n",
              "      <td>...</td>\n",
              "      <td>$206</td>\n",
              "      <td>1.0</td>\n",
              "      <td>0.0</td>\n",
              "      <td>NaN</td>\n",
              "      <td>NaN</td>\n",
              "      <td>3.0</td>\n",
              "      <td>1.0</td>\n",
              "      <td>69.0</td>\n",
              "      <td>NaN</td>\n",
              "      <td>NaN</td>\n",
              "    </tr>\n",
              "  </tbody>\n",
              "</table>\n",
              "<p>102599 rows × 26 columns</p>\n",
              "</div>\n",
              "    <div class=\"colab-df-buttons\">\n",
              "\n",
              "  <div class=\"colab-df-container\">\n",
              "    <button class=\"colab-df-convert\" onclick=\"convertToInteractive('df-0902f183-453f-44a3-9c04-cd709c8cf1ce')\"\n",
              "            title=\"Convert this dataframe to an interactive table.\"\n",
              "            style=\"display:none;\">\n",
              "\n",
              "  <svg xmlns=\"http://www.w3.org/2000/svg\" height=\"24px\" viewBox=\"0 -960 960 960\">\n",
              "    <path d=\"M120-120v-720h720v720H120Zm60-500h600v-160H180v160Zm220 220h160v-160H400v160Zm0 220h160v-160H400v160ZM180-400h160v-160H180v160Zm440 0h160v-160H620v160ZM180-180h160v-160H180v160Zm440 0h160v-160H620v160Z\"/>\n",
              "  </svg>\n",
              "    </button>\n",
              "\n",
              "  <style>\n",
              "    .colab-df-container {\n",
              "      display:flex;\n",
              "      gap: 12px;\n",
              "    }\n",
              "\n",
              "    .colab-df-convert {\n",
              "      background-color: #E8F0FE;\n",
              "      border: none;\n",
              "      border-radius: 50%;\n",
              "      cursor: pointer;\n",
              "      display: none;\n",
              "      fill: #1967D2;\n",
              "      height: 32px;\n",
              "      padding: 0 0 0 0;\n",
              "      width: 32px;\n",
              "    }\n",
              "\n",
              "    .colab-df-convert:hover {\n",
              "      background-color: #E2EBFA;\n",
              "      box-shadow: 0px 1px 2px rgba(60, 64, 67, 0.3), 0px 1px 3px 1px rgba(60, 64, 67, 0.15);\n",
              "      fill: #174EA6;\n",
              "    }\n",
              "\n",
              "    .colab-df-buttons div {\n",
              "      margin-bottom: 4px;\n",
              "    }\n",
              "\n",
              "    [theme=dark] .colab-df-convert {\n",
              "      background-color: #3B4455;\n",
              "      fill: #D2E3FC;\n",
              "    }\n",
              "\n",
              "    [theme=dark] .colab-df-convert:hover {\n",
              "      background-color: #434B5C;\n",
              "      box-shadow: 0px 1px 3px 1px rgba(0, 0, 0, 0.15);\n",
              "      filter: drop-shadow(0px 1px 2px rgba(0, 0, 0, 0.3));\n",
              "      fill: #FFFFFF;\n",
              "    }\n",
              "  </style>\n",
              "\n",
              "    <script>\n",
              "      const buttonEl =\n",
              "        document.querySelector('#df-0902f183-453f-44a3-9c04-cd709c8cf1ce button.colab-df-convert');\n",
              "      buttonEl.style.display =\n",
              "        google.colab.kernel.accessAllowed ? 'block' : 'none';\n",
              "\n",
              "      async function convertToInteractive(key) {\n",
              "        const element = document.querySelector('#df-0902f183-453f-44a3-9c04-cd709c8cf1ce');\n",
              "        const dataTable =\n",
              "          await google.colab.kernel.invokeFunction('convertToInteractive',\n",
              "                                                    [key], {});\n",
              "        if (!dataTable) return;\n",
              "\n",
              "        const docLinkHtml = 'Like what you see? Visit the ' +\n",
              "          '<a target=\"_blank\" href=https://colab.research.google.com/notebooks/data_table.ipynb>data table notebook</a>'\n",
              "          + ' to learn more about interactive tables.';\n",
              "        element.innerHTML = '';\n",
              "        dataTable['output_type'] = 'display_data';\n",
              "        await google.colab.output.renderOutput(dataTable, element);\n",
              "        const docLink = document.createElement('div');\n",
              "        docLink.innerHTML = docLinkHtml;\n",
              "        element.appendChild(docLink);\n",
              "      }\n",
              "    </script>\n",
              "  </div>\n",
              "\n",
              "\n",
              "<div id=\"df-ce67c2ca-e550-4b5b-88b2-e7aba3d9f85d\">\n",
              "  <button class=\"colab-df-quickchart\" onclick=\"quickchart('df-ce67c2ca-e550-4b5b-88b2-e7aba3d9f85d')\"\n",
              "            title=\"Suggest charts\"\n",
              "            style=\"display:none;\">\n",
              "\n",
              "<svg xmlns=\"http://www.w3.org/2000/svg\" height=\"24px\"viewBox=\"0 0 24 24\"\n",
              "     width=\"24px\">\n",
              "    <g>\n",
              "        <path d=\"M19 3H5c-1.1 0-2 .9-2 2v14c0 1.1.9 2 2 2h14c1.1 0 2-.9 2-2V5c0-1.1-.9-2-2-2zM9 17H7v-7h2v7zm4 0h-2V7h2v10zm4 0h-2v-4h2v4z\"/>\n",
              "    </g>\n",
              "</svg>\n",
              "  </button>\n",
              "\n",
              "<style>\n",
              "  .colab-df-quickchart {\n",
              "      --bg-color: #E8F0FE;\n",
              "      --fill-color: #1967D2;\n",
              "      --hover-bg-color: #E2EBFA;\n",
              "      --hover-fill-color: #174EA6;\n",
              "      --disabled-fill-color: #AAA;\n",
              "      --disabled-bg-color: #DDD;\n",
              "  }\n",
              "\n",
              "  [theme=dark] .colab-df-quickchart {\n",
              "      --bg-color: #3B4455;\n",
              "      --fill-color: #D2E3FC;\n",
              "      --hover-bg-color: #434B5C;\n",
              "      --hover-fill-color: #FFFFFF;\n",
              "      --disabled-bg-color: #3B4455;\n",
              "      --disabled-fill-color: #666;\n",
              "  }\n",
              "\n",
              "  .colab-df-quickchart {\n",
              "    background-color: var(--bg-color);\n",
              "    border: none;\n",
              "    border-radius: 50%;\n",
              "    cursor: pointer;\n",
              "    display: none;\n",
              "    fill: var(--fill-color);\n",
              "    height: 32px;\n",
              "    padding: 0;\n",
              "    width: 32px;\n",
              "  }\n",
              "\n",
              "  .colab-df-quickchart:hover {\n",
              "    background-color: var(--hover-bg-color);\n",
              "    box-shadow: 0 1px 2px rgba(60, 64, 67, 0.3), 0 1px 3px 1px rgba(60, 64, 67, 0.15);\n",
              "    fill: var(--button-hover-fill-color);\n",
              "  }\n",
              "\n",
              "  .colab-df-quickchart-complete:disabled,\n",
              "  .colab-df-quickchart-complete:disabled:hover {\n",
              "    background-color: var(--disabled-bg-color);\n",
              "    fill: var(--disabled-fill-color);\n",
              "    box-shadow: none;\n",
              "  }\n",
              "\n",
              "  .colab-df-spinner {\n",
              "    border: 2px solid var(--fill-color);\n",
              "    border-color: transparent;\n",
              "    border-bottom-color: var(--fill-color);\n",
              "    animation:\n",
              "      spin 1s steps(1) infinite;\n",
              "  }\n",
              "\n",
              "  @keyframes spin {\n",
              "    0% {\n",
              "      border-color: transparent;\n",
              "      border-bottom-color: var(--fill-color);\n",
              "      border-left-color: var(--fill-color);\n",
              "    }\n",
              "    20% {\n",
              "      border-color: transparent;\n",
              "      border-left-color: var(--fill-color);\n",
              "      border-top-color: var(--fill-color);\n",
              "    }\n",
              "    30% {\n",
              "      border-color: transparent;\n",
              "      border-left-color: var(--fill-color);\n",
              "      border-top-color: var(--fill-color);\n",
              "      border-right-color: var(--fill-color);\n",
              "    }\n",
              "    40% {\n",
              "      border-color: transparent;\n",
              "      border-right-color: var(--fill-color);\n",
              "      border-top-color: var(--fill-color);\n",
              "    }\n",
              "    60% {\n",
              "      border-color: transparent;\n",
              "      border-right-color: var(--fill-color);\n",
              "    }\n",
              "    80% {\n",
              "      border-color: transparent;\n",
              "      border-right-color: var(--fill-color);\n",
              "      border-bottom-color: var(--fill-color);\n",
              "    }\n",
              "    90% {\n",
              "      border-color: transparent;\n",
              "      border-bottom-color: var(--fill-color);\n",
              "    }\n",
              "  }\n",
              "</style>\n",
              "\n",
              "  <script>\n",
              "    async function quickchart(key) {\n",
              "      const quickchartButtonEl =\n",
              "        document.querySelector('#' + key + ' button');\n",
              "      quickchartButtonEl.disabled = true;  // To prevent multiple clicks.\n",
              "      quickchartButtonEl.classList.add('colab-df-spinner');\n",
              "      try {\n",
              "        const charts = await google.colab.kernel.invokeFunction(\n",
              "            'suggestCharts', [key], {});\n",
              "      } catch (error) {\n",
              "        console.error('Error during call to suggestCharts:', error);\n",
              "      }\n",
              "      quickchartButtonEl.classList.remove('colab-df-spinner');\n",
              "      quickchartButtonEl.classList.add('colab-df-quickchart-complete');\n",
              "    }\n",
              "    (() => {\n",
              "      let quickchartButtonEl =\n",
              "        document.querySelector('#df-ce67c2ca-e550-4b5b-88b2-e7aba3d9f85d button');\n",
              "      quickchartButtonEl.style.display =\n",
              "        google.colab.kernel.accessAllowed ? 'block' : 'none';\n",
              "    })();\n",
              "  </script>\n",
              "</div>\n",
              "    </div>\n",
              "  </div>\n"
            ],
            "application/vnd.google.colaboratory.intrinsic+json": {
              "type": "dataframe",
              "variable_name": "df"
            }
          },
          "metadata": {},
          "execution_count": 65
        }
      ]
    },
    {
      "cell_type": "code",
      "source": [
        "df.info()"
      ],
      "metadata": {
        "colab": {
          "base_uri": "https://localhost:8080/"
        },
        "id": "lsSGTkrl6Yn6",
        "outputId": "068208cf-b9e3-4876-a3fc-9ea2be7ac473"
      },
      "execution_count": 66,
      "outputs": [
        {
          "output_type": "stream",
          "name": "stdout",
          "text": [
            "<class 'pandas.core.frame.DataFrame'>\n",
            "RangeIndex: 102599 entries, 0 to 102598\n",
            "Data columns (total 26 columns):\n",
            " #   Column                          Non-Null Count   Dtype  \n",
            "---  ------                          --------------   -----  \n",
            " 0   id                              102599 non-null  int64  \n",
            " 1   NAME                            102349 non-null  object \n",
            " 2   host id                         102599 non-null  int64  \n",
            " 3   host_identity_verified          102310 non-null  object \n",
            " 4   host name                       102193 non-null  object \n",
            " 5   neighbourhood group             102570 non-null  object \n",
            " 6   neighbourhood                   102583 non-null  object \n",
            " 7   lat                             102591 non-null  float64\n",
            " 8   long                            102591 non-null  float64\n",
            " 9   country                         102067 non-null  object \n",
            " 10  country code                    102468 non-null  object \n",
            " 11  instant_bookable                102494 non-null  object \n",
            " 12  cancellation_policy             102523 non-null  object \n",
            " 13  room type                       102599 non-null  object \n",
            " 14  Construction year               102385 non-null  float64\n",
            " 15  price                           102352 non-null  object \n",
            " 16  service fee                     102326 non-null  object \n",
            " 17  minimum nights                  102190 non-null  float64\n",
            " 18  number of reviews               102416 non-null  float64\n",
            " 19  last review                     86706 non-null   object \n",
            " 20  reviews per month               86720 non-null   float64\n",
            " 21  review rate number              102273 non-null  float64\n",
            " 22  calculated host listings count  102280 non-null  float64\n",
            " 23  availability 365                102151 non-null  float64\n",
            " 24  house_rules                     50468 non-null   object \n",
            " 25  license                         2 non-null       object \n",
            "dtypes: float64(9), int64(2), object(15)\n",
            "memory usage: 20.4+ MB\n"
          ]
        }
      ]
    },
    {
      "cell_type": "code",
      "source": [
        "df.isna().sum()"
      ],
      "metadata": {
        "colab": {
          "base_uri": "https://localhost:8080/",
          "height": 899
        },
        "id": "Py7BXggc8WCi",
        "outputId": "b2f51578-bf18-40f3-f6de-1481fd01df58"
      },
      "execution_count": 67,
      "outputs": [
        {
          "output_type": "execute_result",
          "data": {
            "text/plain": [
              "id                                     0\n",
              "NAME                                 250\n",
              "host id                                0\n",
              "host_identity_verified               289\n",
              "host name                            406\n",
              "neighbourhood group                   29\n",
              "neighbourhood                         16\n",
              "lat                                    8\n",
              "long                                   8\n",
              "country                              532\n",
              "country code                         131\n",
              "instant_bookable                     105\n",
              "cancellation_policy                   76\n",
              "room type                              0\n",
              "Construction year                    214\n",
              "price                                247\n",
              "service fee                          273\n",
              "minimum nights                       409\n",
              "number of reviews                    183\n",
              "last review                        15893\n",
              "reviews per month                  15879\n",
              "review rate number                   326\n",
              "calculated host listings count       319\n",
              "availability 365                     448\n",
              "house_rules                        52131\n",
              "license                           102597\n",
              "dtype: int64"
            ],
            "text/html": [
              "<div>\n",
              "<style scoped>\n",
              "    .dataframe tbody tr th:only-of-type {\n",
              "        vertical-align: middle;\n",
              "    }\n",
              "\n",
              "    .dataframe tbody tr th {\n",
              "        vertical-align: top;\n",
              "    }\n",
              "\n",
              "    .dataframe thead th {\n",
              "        text-align: right;\n",
              "    }\n",
              "</style>\n",
              "<table border=\"1\" class=\"dataframe\">\n",
              "  <thead>\n",
              "    <tr style=\"text-align: right;\">\n",
              "      <th></th>\n",
              "      <th>0</th>\n",
              "    </tr>\n",
              "  </thead>\n",
              "  <tbody>\n",
              "    <tr>\n",
              "      <th>id</th>\n",
              "      <td>0</td>\n",
              "    </tr>\n",
              "    <tr>\n",
              "      <th>NAME</th>\n",
              "      <td>250</td>\n",
              "    </tr>\n",
              "    <tr>\n",
              "      <th>host id</th>\n",
              "      <td>0</td>\n",
              "    </tr>\n",
              "    <tr>\n",
              "      <th>host_identity_verified</th>\n",
              "      <td>289</td>\n",
              "    </tr>\n",
              "    <tr>\n",
              "      <th>host name</th>\n",
              "      <td>406</td>\n",
              "    </tr>\n",
              "    <tr>\n",
              "      <th>neighbourhood group</th>\n",
              "      <td>29</td>\n",
              "    </tr>\n",
              "    <tr>\n",
              "      <th>neighbourhood</th>\n",
              "      <td>16</td>\n",
              "    </tr>\n",
              "    <tr>\n",
              "      <th>lat</th>\n",
              "      <td>8</td>\n",
              "    </tr>\n",
              "    <tr>\n",
              "      <th>long</th>\n",
              "      <td>8</td>\n",
              "    </tr>\n",
              "    <tr>\n",
              "      <th>country</th>\n",
              "      <td>532</td>\n",
              "    </tr>\n",
              "    <tr>\n",
              "      <th>country code</th>\n",
              "      <td>131</td>\n",
              "    </tr>\n",
              "    <tr>\n",
              "      <th>instant_bookable</th>\n",
              "      <td>105</td>\n",
              "    </tr>\n",
              "    <tr>\n",
              "      <th>cancellation_policy</th>\n",
              "      <td>76</td>\n",
              "    </tr>\n",
              "    <tr>\n",
              "      <th>room type</th>\n",
              "      <td>0</td>\n",
              "    </tr>\n",
              "    <tr>\n",
              "      <th>Construction year</th>\n",
              "      <td>214</td>\n",
              "    </tr>\n",
              "    <tr>\n",
              "      <th>price</th>\n",
              "      <td>247</td>\n",
              "    </tr>\n",
              "    <tr>\n",
              "      <th>service fee</th>\n",
              "      <td>273</td>\n",
              "    </tr>\n",
              "    <tr>\n",
              "      <th>minimum nights</th>\n",
              "      <td>409</td>\n",
              "    </tr>\n",
              "    <tr>\n",
              "      <th>number of reviews</th>\n",
              "      <td>183</td>\n",
              "    </tr>\n",
              "    <tr>\n",
              "      <th>last review</th>\n",
              "      <td>15893</td>\n",
              "    </tr>\n",
              "    <tr>\n",
              "      <th>reviews per month</th>\n",
              "      <td>15879</td>\n",
              "    </tr>\n",
              "    <tr>\n",
              "      <th>review rate number</th>\n",
              "      <td>326</td>\n",
              "    </tr>\n",
              "    <tr>\n",
              "      <th>calculated host listings count</th>\n",
              "      <td>319</td>\n",
              "    </tr>\n",
              "    <tr>\n",
              "      <th>availability 365</th>\n",
              "      <td>448</td>\n",
              "    </tr>\n",
              "    <tr>\n",
              "      <th>house_rules</th>\n",
              "      <td>52131</td>\n",
              "    </tr>\n",
              "    <tr>\n",
              "      <th>license</th>\n",
              "      <td>102597</td>\n",
              "    </tr>\n",
              "  </tbody>\n",
              "</table>\n",
              "</div><br><label><b>dtype:</b> int64</label>"
            ]
          },
          "metadata": {},
          "execution_count": 67
        }
      ]
    },
    {
      "cell_type": "code",
      "source": [
        "df=df.drop(['id','NAME','host id','host name','lat','long','country code','last review','reviews per month','country','calculated host listings count','house_rules','license'],axis=1)"
      ],
      "metadata": {
        "id": "d_Tf9xsY8YsF"
      },
      "execution_count": 68,
      "outputs": []
    },
    {
      "cell_type": "code",
      "source": [
        "df.isna().sum()"
      ],
      "metadata": {
        "colab": {
          "base_uri": "https://localhost:8080/",
          "height": 492
        },
        "id": "QKtVIsz48r6m",
        "outputId": "afd6f2ea-7c51-4fd3-ace8-10b57417134c"
      },
      "execution_count": 69,
      "outputs": [
        {
          "output_type": "execute_result",
          "data": {
            "text/plain": [
              "host_identity_verified    289\n",
              "neighbourhood group        29\n",
              "neighbourhood              16\n",
              "instant_bookable          105\n",
              "cancellation_policy        76\n",
              "room type                   0\n",
              "Construction year         214\n",
              "price                     247\n",
              "service fee               273\n",
              "minimum nights            409\n",
              "number of reviews         183\n",
              "review rate number        326\n",
              "availability 365          448\n",
              "dtype: int64"
            ],
            "text/html": [
              "<div>\n",
              "<style scoped>\n",
              "    .dataframe tbody tr th:only-of-type {\n",
              "        vertical-align: middle;\n",
              "    }\n",
              "\n",
              "    .dataframe tbody tr th {\n",
              "        vertical-align: top;\n",
              "    }\n",
              "\n",
              "    .dataframe thead th {\n",
              "        text-align: right;\n",
              "    }\n",
              "</style>\n",
              "<table border=\"1\" class=\"dataframe\">\n",
              "  <thead>\n",
              "    <tr style=\"text-align: right;\">\n",
              "      <th></th>\n",
              "      <th>0</th>\n",
              "    </tr>\n",
              "  </thead>\n",
              "  <tbody>\n",
              "    <tr>\n",
              "      <th>host_identity_verified</th>\n",
              "      <td>289</td>\n",
              "    </tr>\n",
              "    <tr>\n",
              "      <th>neighbourhood group</th>\n",
              "      <td>29</td>\n",
              "    </tr>\n",
              "    <tr>\n",
              "      <th>neighbourhood</th>\n",
              "      <td>16</td>\n",
              "    </tr>\n",
              "    <tr>\n",
              "      <th>instant_bookable</th>\n",
              "      <td>105</td>\n",
              "    </tr>\n",
              "    <tr>\n",
              "      <th>cancellation_policy</th>\n",
              "      <td>76</td>\n",
              "    </tr>\n",
              "    <tr>\n",
              "      <th>room type</th>\n",
              "      <td>0</td>\n",
              "    </tr>\n",
              "    <tr>\n",
              "      <th>Construction year</th>\n",
              "      <td>214</td>\n",
              "    </tr>\n",
              "    <tr>\n",
              "      <th>price</th>\n",
              "      <td>247</td>\n",
              "    </tr>\n",
              "    <tr>\n",
              "      <th>service fee</th>\n",
              "      <td>273</td>\n",
              "    </tr>\n",
              "    <tr>\n",
              "      <th>minimum nights</th>\n",
              "      <td>409</td>\n",
              "    </tr>\n",
              "    <tr>\n",
              "      <th>number of reviews</th>\n",
              "      <td>183</td>\n",
              "    </tr>\n",
              "    <tr>\n",
              "      <th>review rate number</th>\n",
              "      <td>326</td>\n",
              "    </tr>\n",
              "    <tr>\n",
              "      <th>availability 365</th>\n",
              "      <td>448</td>\n",
              "    </tr>\n",
              "  </tbody>\n",
              "</table>\n",
              "</div><br><label><b>dtype:</b> int64</label>"
            ]
          },
          "metadata": {},
          "execution_count": 69
        }
      ]
    },
    {
      "cell_type": "code",
      "source": [
        "df"
      ],
      "metadata": {
        "colab": {
          "base_uri": "https://localhost:8080/",
          "height": 632
        },
        "id": "GIKSlsfI8utG",
        "outputId": "6de36a26-87d8-42d4-f938-f21101fccdaf"
      },
      "execution_count": 70,
      "outputs": [
        {
          "output_type": "execute_result",
          "data": {
            "text/plain": [
              "       host_identity_verified neighbourhood group        neighbourhood  \\\n",
              "0                 unconfirmed            Brooklyn           Kensington   \n",
              "1                    verified           Manhattan              Midtown   \n",
              "2                         NaN           Manhattan               Harlem   \n",
              "3                 unconfirmed            Brooklyn         Clinton Hill   \n",
              "4                    verified           Manhattan          East Harlem   \n",
              "...                       ...                 ...                  ...   \n",
              "102594               verified            Brooklyn         Williamsburg   \n",
              "102595            unconfirmed           Manhattan  Morningside Heights   \n",
              "102596            unconfirmed            Brooklyn           Park Slope   \n",
              "102597            unconfirmed              Queens     Long Island City   \n",
              "102598            unconfirmed           Manhattan      Upper West Side   \n",
              "\n",
              "       instant_bookable cancellation_policy        room type  \\\n",
              "0                 False              strict     Private room   \n",
              "1                 False            moderate  Entire home/apt   \n",
              "2                  True            flexible     Private room   \n",
              "3                  True            moderate  Entire home/apt   \n",
              "4                 False            moderate  Entire home/apt   \n",
              "...                 ...                 ...              ...   \n",
              "102594            False            flexible     Private room   \n",
              "102595             True            moderate     Private room   \n",
              "102596             True            moderate     Private room   \n",
              "102597             True              strict  Entire home/apt   \n",
              "102598            False            flexible  Entire home/apt   \n",
              "\n",
              "        Construction year    price service fee  minimum nights  \\\n",
              "0                  2020.0    $966        $193             10.0   \n",
              "1                  2007.0    $142         $28             30.0   \n",
              "2                  2005.0    $620        $124              3.0   \n",
              "3                  2005.0    $368         $74             30.0   \n",
              "4                  2009.0    $204         $41             10.0   \n",
              "...                   ...      ...         ...             ...   \n",
              "102594             2003.0    $844        $169              1.0   \n",
              "102595             2016.0    $837        $167              1.0   \n",
              "102596             2009.0    $988        $198              3.0   \n",
              "102597             2015.0    $546        $109              2.0   \n",
              "102598             2010.0  $1,032        $206              1.0   \n",
              "\n",
              "        number of reviews  review rate number  availability 365  \n",
              "0                     9.0                 4.0             286.0  \n",
              "1                    45.0                 4.0             228.0  \n",
              "2                     0.0                 5.0             352.0  \n",
              "3                   270.0                 4.0             322.0  \n",
              "4                     9.0                 3.0             289.0  \n",
              "...                   ...                 ...               ...  \n",
              "102594                0.0                 3.0             227.0  \n",
              "102595                1.0                 2.0             395.0  \n",
              "102596                0.0                 5.0             342.0  \n",
              "102597                5.0                 3.0             386.0  \n",
              "102598                0.0                 3.0              69.0  \n",
              "\n",
              "[102599 rows x 13 columns]"
            ],
            "text/html": [
              "\n",
              "  <div id=\"df-bbb5f91d-6709-425b-a2d4-7b4356845b56\" class=\"colab-df-container\">\n",
              "    <div>\n",
              "<style scoped>\n",
              "    .dataframe tbody tr th:only-of-type {\n",
              "        vertical-align: middle;\n",
              "    }\n",
              "\n",
              "    .dataframe tbody tr th {\n",
              "        vertical-align: top;\n",
              "    }\n",
              "\n",
              "    .dataframe thead th {\n",
              "        text-align: right;\n",
              "    }\n",
              "</style>\n",
              "<table border=\"1\" class=\"dataframe\">\n",
              "  <thead>\n",
              "    <tr style=\"text-align: right;\">\n",
              "      <th></th>\n",
              "      <th>host_identity_verified</th>\n",
              "      <th>neighbourhood group</th>\n",
              "      <th>neighbourhood</th>\n",
              "      <th>instant_bookable</th>\n",
              "      <th>cancellation_policy</th>\n",
              "      <th>room type</th>\n",
              "      <th>Construction year</th>\n",
              "      <th>price</th>\n",
              "      <th>service fee</th>\n",
              "      <th>minimum nights</th>\n",
              "      <th>number of reviews</th>\n",
              "      <th>review rate number</th>\n",
              "      <th>availability 365</th>\n",
              "    </tr>\n",
              "  </thead>\n",
              "  <tbody>\n",
              "    <tr>\n",
              "      <th>0</th>\n",
              "      <td>unconfirmed</td>\n",
              "      <td>Brooklyn</td>\n",
              "      <td>Kensington</td>\n",
              "      <td>False</td>\n",
              "      <td>strict</td>\n",
              "      <td>Private room</td>\n",
              "      <td>2020.0</td>\n",
              "      <td>$966</td>\n",
              "      <td>$193</td>\n",
              "      <td>10.0</td>\n",
              "      <td>9.0</td>\n",
              "      <td>4.0</td>\n",
              "      <td>286.0</td>\n",
              "    </tr>\n",
              "    <tr>\n",
              "      <th>1</th>\n",
              "      <td>verified</td>\n",
              "      <td>Manhattan</td>\n",
              "      <td>Midtown</td>\n",
              "      <td>False</td>\n",
              "      <td>moderate</td>\n",
              "      <td>Entire home/apt</td>\n",
              "      <td>2007.0</td>\n",
              "      <td>$142</td>\n",
              "      <td>$28</td>\n",
              "      <td>30.0</td>\n",
              "      <td>45.0</td>\n",
              "      <td>4.0</td>\n",
              "      <td>228.0</td>\n",
              "    </tr>\n",
              "    <tr>\n",
              "      <th>2</th>\n",
              "      <td>NaN</td>\n",
              "      <td>Manhattan</td>\n",
              "      <td>Harlem</td>\n",
              "      <td>True</td>\n",
              "      <td>flexible</td>\n",
              "      <td>Private room</td>\n",
              "      <td>2005.0</td>\n",
              "      <td>$620</td>\n",
              "      <td>$124</td>\n",
              "      <td>3.0</td>\n",
              "      <td>0.0</td>\n",
              "      <td>5.0</td>\n",
              "      <td>352.0</td>\n",
              "    </tr>\n",
              "    <tr>\n",
              "      <th>3</th>\n",
              "      <td>unconfirmed</td>\n",
              "      <td>Brooklyn</td>\n",
              "      <td>Clinton Hill</td>\n",
              "      <td>True</td>\n",
              "      <td>moderate</td>\n",
              "      <td>Entire home/apt</td>\n",
              "      <td>2005.0</td>\n",
              "      <td>$368</td>\n",
              "      <td>$74</td>\n",
              "      <td>30.0</td>\n",
              "      <td>270.0</td>\n",
              "      <td>4.0</td>\n",
              "      <td>322.0</td>\n",
              "    </tr>\n",
              "    <tr>\n",
              "      <th>4</th>\n",
              "      <td>verified</td>\n",
              "      <td>Manhattan</td>\n",
              "      <td>East Harlem</td>\n",
              "      <td>False</td>\n",
              "      <td>moderate</td>\n",
              "      <td>Entire home/apt</td>\n",
              "      <td>2009.0</td>\n",
              "      <td>$204</td>\n",
              "      <td>$41</td>\n",
              "      <td>10.0</td>\n",
              "      <td>9.0</td>\n",
              "      <td>3.0</td>\n",
              "      <td>289.0</td>\n",
              "    </tr>\n",
              "    <tr>\n",
              "      <th>...</th>\n",
              "      <td>...</td>\n",
              "      <td>...</td>\n",
              "      <td>...</td>\n",
              "      <td>...</td>\n",
              "      <td>...</td>\n",
              "      <td>...</td>\n",
              "      <td>...</td>\n",
              "      <td>...</td>\n",
              "      <td>...</td>\n",
              "      <td>...</td>\n",
              "      <td>...</td>\n",
              "      <td>...</td>\n",
              "      <td>...</td>\n",
              "    </tr>\n",
              "    <tr>\n",
              "      <th>102594</th>\n",
              "      <td>verified</td>\n",
              "      <td>Brooklyn</td>\n",
              "      <td>Williamsburg</td>\n",
              "      <td>False</td>\n",
              "      <td>flexible</td>\n",
              "      <td>Private room</td>\n",
              "      <td>2003.0</td>\n",
              "      <td>$844</td>\n",
              "      <td>$169</td>\n",
              "      <td>1.0</td>\n",
              "      <td>0.0</td>\n",
              "      <td>3.0</td>\n",
              "      <td>227.0</td>\n",
              "    </tr>\n",
              "    <tr>\n",
              "      <th>102595</th>\n",
              "      <td>unconfirmed</td>\n",
              "      <td>Manhattan</td>\n",
              "      <td>Morningside Heights</td>\n",
              "      <td>True</td>\n",
              "      <td>moderate</td>\n",
              "      <td>Private room</td>\n",
              "      <td>2016.0</td>\n",
              "      <td>$837</td>\n",
              "      <td>$167</td>\n",
              "      <td>1.0</td>\n",
              "      <td>1.0</td>\n",
              "      <td>2.0</td>\n",
              "      <td>395.0</td>\n",
              "    </tr>\n",
              "    <tr>\n",
              "      <th>102596</th>\n",
              "      <td>unconfirmed</td>\n",
              "      <td>Brooklyn</td>\n",
              "      <td>Park Slope</td>\n",
              "      <td>True</td>\n",
              "      <td>moderate</td>\n",
              "      <td>Private room</td>\n",
              "      <td>2009.0</td>\n",
              "      <td>$988</td>\n",
              "      <td>$198</td>\n",
              "      <td>3.0</td>\n",
              "      <td>0.0</td>\n",
              "      <td>5.0</td>\n",
              "      <td>342.0</td>\n",
              "    </tr>\n",
              "    <tr>\n",
              "      <th>102597</th>\n",
              "      <td>unconfirmed</td>\n",
              "      <td>Queens</td>\n",
              "      <td>Long Island City</td>\n",
              "      <td>True</td>\n",
              "      <td>strict</td>\n",
              "      <td>Entire home/apt</td>\n",
              "      <td>2015.0</td>\n",
              "      <td>$546</td>\n",
              "      <td>$109</td>\n",
              "      <td>2.0</td>\n",
              "      <td>5.0</td>\n",
              "      <td>3.0</td>\n",
              "      <td>386.0</td>\n",
              "    </tr>\n",
              "    <tr>\n",
              "      <th>102598</th>\n",
              "      <td>unconfirmed</td>\n",
              "      <td>Manhattan</td>\n",
              "      <td>Upper West Side</td>\n",
              "      <td>False</td>\n",
              "      <td>flexible</td>\n",
              "      <td>Entire home/apt</td>\n",
              "      <td>2010.0</td>\n",
              "      <td>$1,032</td>\n",
              "      <td>$206</td>\n",
              "      <td>1.0</td>\n",
              "      <td>0.0</td>\n",
              "      <td>3.0</td>\n",
              "      <td>69.0</td>\n",
              "    </tr>\n",
              "  </tbody>\n",
              "</table>\n",
              "<p>102599 rows × 13 columns</p>\n",
              "</div>\n",
              "    <div class=\"colab-df-buttons\">\n",
              "\n",
              "  <div class=\"colab-df-container\">\n",
              "    <button class=\"colab-df-convert\" onclick=\"convertToInteractive('df-bbb5f91d-6709-425b-a2d4-7b4356845b56')\"\n",
              "            title=\"Convert this dataframe to an interactive table.\"\n",
              "            style=\"display:none;\">\n",
              "\n",
              "  <svg xmlns=\"http://www.w3.org/2000/svg\" height=\"24px\" viewBox=\"0 -960 960 960\">\n",
              "    <path d=\"M120-120v-720h720v720H120Zm60-500h600v-160H180v160Zm220 220h160v-160H400v160Zm0 220h160v-160H400v160ZM180-400h160v-160H180v160Zm440 0h160v-160H620v160ZM180-180h160v-160H180v160Zm440 0h160v-160H620v160Z\"/>\n",
              "  </svg>\n",
              "    </button>\n",
              "\n",
              "  <style>\n",
              "    .colab-df-container {\n",
              "      display:flex;\n",
              "      gap: 12px;\n",
              "    }\n",
              "\n",
              "    .colab-df-convert {\n",
              "      background-color: #E8F0FE;\n",
              "      border: none;\n",
              "      border-radius: 50%;\n",
              "      cursor: pointer;\n",
              "      display: none;\n",
              "      fill: #1967D2;\n",
              "      height: 32px;\n",
              "      padding: 0 0 0 0;\n",
              "      width: 32px;\n",
              "    }\n",
              "\n",
              "    .colab-df-convert:hover {\n",
              "      background-color: #E2EBFA;\n",
              "      box-shadow: 0px 1px 2px rgba(60, 64, 67, 0.3), 0px 1px 3px 1px rgba(60, 64, 67, 0.15);\n",
              "      fill: #174EA6;\n",
              "    }\n",
              "\n",
              "    .colab-df-buttons div {\n",
              "      margin-bottom: 4px;\n",
              "    }\n",
              "\n",
              "    [theme=dark] .colab-df-convert {\n",
              "      background-color: #3B4455;\n",
              "      fill: #D2E3FC;\n",
              "    }\n",
              "\n",
              "    [theme=dark] .colab-df-convert:hover {\n",
              "      background-color: #434B5C;\n",
              "      box-shadow: 0px 1px 3px 1px rgba(0, 0, 0, 0.15);\n",
              "      filter: drop-shadow(0px 1px 2px rgba(0, 0, 0, 0.3));\n",
              "      fill: #FFFFFF;\n",
              "    }\n",
              "  </style>\n",
              "\n",
              "    <script>\n",
              "      const buttonEl =\n",
              "        document.querySelector('#df-bbb5f91d-6709-425b-a2d4-7b4356845b56 button.colab-df-convert');\n",
              "      buttonEl.style.display =\n",
              "        google.colab.kernel.accessAllowed ? 'block' : 'none';\n",
              "\n",
              "      async function convertToInteractive(key) {\n",
              "        const element = document.querySelector('#df-bbb5f91d-6709-425b-a2d4-7b4356845b56');\n",
              "        const dataTable =\n",
              "          await google.colab.kernel.invokeFunction('convertToInteractive',\n",
              "                                                    [key], {});\n",
              "        if (!dataTable) return;\n",
              "\n",
              "        const docLinkHtml = 'Like what you see? Visit the ' +\n",
              "          '<a target=\"_blank\" href=https://colab.research.google.com/notebooks/data_table.ipynb>data table notebook</a>'\n",
              "          + ' to learn more about interactive tables.';\n",
              "        element.innerHTML = '';\n",
              "        dataTable['output_type'] = 'display_data';\n",
              "        await google.colab.output.renderOutput(dataTable, element);\n",
              "        const docLink = document.createElement('div');\n",
              "        docLink.innerHTML = docLinkHtml;\n",
              "        element.appendChild(docLink);\n",
              "      }\n",
              "    </script>\n",
              "  </div>\n",
              "\n",
              "\n",
              "<div id=\"df-068d7f9d-1fc8-48fb-a4be-804378df941f\">\n",
              "  <button class=\"colab-df-quickchart\" onclick=\"quickchart('df-068d7f9d-1fc8-48fb-a4be-804378df941f')\"\n",
              "            title=\"Suggest charts\"\n",
              "            style=\"display:none;\">\n",
              "\n",
              "<svg xmlns=\"http://www.w3.org/2000/svg\" height=\"24px\"viewBox=\"0 0 24 24\"\n",
              "     width=\"24px\">\n",
              "    <g>\n",
              "        <path d=\"M19 3H5c-1.1 0-2 .9-2 2v14c0 1.1.9 2 2 2h14c1.1 0 2-.9 2-2V5c0-1.1-.9-2-2-2zM9 17H7v-7h2v7zm4 0h-2V7h2v10zm4 0h-2v-4h2v4z\"/>\n",
              "    </g>\n",
              "</svg>\n",
              "  </button>\n",
              "\n",
              "<style>\n",
              "  .colab-df-quickchart {\n",
              "      --bg-color: #E8F0FE;\n",
              "      --fill-color: #1967D2;\n",
              "      --hover-bg-color: #E2EBFA;\n",
              "      --hover-fill-color: #174EA6;\n",
              "      --disabled-fill-color: #AAA;\n",
              "      --disabled-bg-color: #DDD;\n",
              "  }\n",
              "\n",
              "  [theme=dark] .colab-df-quickchart {\n",
              "      --bg-color: #3B4455;\n",
              "      --fill-color: #D2E3FC;\n",
              "      --hover-bg-color: #434B5C;\n",
              "      --hover-fill-color: #FFFFFF;\n",
              "      --disabled-bg-color: #3B4455;\n",
              "      --disabled-fill-color: #666;\n",
              "  }\n",
              "\n",
              "  .colab-df-quickchart {\n",
              "    background-color: var(--bg-color);\n",
              "    border: none;\n",
              "    border-radius: 50%;\n",
              "    cursor: pointer;\n",
              "    display: none;\n",
              "    fill: var(--fill-color);\n",
              "    height: 32px;\n",
              "    padding: 0;\n",
              "    width: 32px;\n",
              "  }\n",
              "\n",
              "  .colab-df-quickchart:hover {\n",
              "    background-color: var(--hover-bg-color);\n",
              "    box-shadow: 0 1px 2px rgba(60, 64, 67, 0.3), 0 1px 3px 1px rgba(60, 64, 67, 0.15);\n",
              "    fill: var(--button-hover-fill-color);\n",
              "  }\n",
              "\n",
              "  .colab-df-quickchart-complete:disabled,\n",
              "  .colab-df-quickchart-complete:disabled:hover {\n",
              "    background-color: var(--disabled-bg-color);\n",
              "    fill: var(--disabled-fill-color);\n",
              "    box-shadow: none;\n",
              "  }\n",
              "\n",
              "  .colab-df-spinner {\n",
              "    border: 2px solid var(--fill-color);\n",
              "    border-color: transparent;\n",
              "    border-bottom-color: var(--fill-color);\n",
              "    animation:\n",
              "      spin 1s steps(1) infinite;\n",
              "  }\n",
              "\n",
              "  @keyframes spin {\n",
              "    0% {\n",
              "      border-color: transparent;\n",
              "      border-bottom-color: var(--fill-color);\n",
              "      border-left-color: var(--fill-color);\n",
              "    }\n",
              "    20% {\n",
              "      border-color: transparent;\n",
              "      border-left-color: var(--fill-color);\n",
              "      border-top-color: var(--fill-color);\n",
              "    }\n",
              "    30% {\n",
              "      border-color: transparent;\n",
              "      border-left-color: var(--fill-color);\n",
              "      border-top-color: var(--fill-color);\n",
              "      border-right-color: var(--fill-color);\n",
              "    }\n",
              "    40% {\n",
              "      border-color: transparent;\n",
              "      border-right-color: var(--fill-color);\n",
              "      border-top-color: var(--fill-color);\n",
              "    }\n",
              "    60% {\n",
              "      border-color: transparent;\n",
              "      border-right-color: var(--fill-color);\n",
              "    }\n",
              "    80% {\n",
              "      border-color: transparent;\n",
              "      border-right-color: var(--fill-color);\n",
              "      border-bottom-color: var(--fill-color);\n",
              "    }\n",
              "    90% {\n",
              "      border-color: transparent;\n",
              "      border-bottom-color: var(--fill-color);\n",
              "    }\n",
              "  }\n",
              "</style>\n",
              "\n",
              "  <script>\n",
              "    async function quickchart(key) {\n",
              "      const quickchartButtonEl =\n",
              "        document.querySelector('#' + key + ' button');\n",
              "      quickchartButtonEl.disabled = true;  // To prevent multiple clicks.\n",
              "      quickchartButtonEl.classList.add('colab-df-spinner');\n",
              "      try {\n",
              "        const charts = await google.colab.kernel.invokeFunction(\n",
              "            'suggestCharts', [key], {});\n",
              "      } catch (error) {\n",
              "        console.error('Error during call to suggestCharts:', error);\n",
              "      }\n",
              "      quickchartButtonEl.classList.remove('colab-df-spinner');\n",
              "      quickchartButtonEl.classList.add('colab-df-quickchart-complete');\n",
              "    }\n",
              "    (() => {\n",
              "      let quickchartButtonEl =\n",
              "        document.querySelector('#df-068d7f9d-1fc8-48fb-a4be-804378df941f button');\n",
              "      quickchartButtonEl.style.display =\n",
              "        google.colab.kernel.accessAllowed ? 'block' : 'none';\n",
              "    })();\n",
              "  </script>\n",
              "</div>\n",
              "    </div>\n",
              "  </div>\n"
            ],
            "application/vnd.google.colaboratory.intrinsic+json": {
              "type": "dataframe",
              "variable_name": "df"
            }
          },
          "metadata": {},
          "execution_count": 70
        }
      ]
    },
    {
      "cell_type": "code",
      "source": [
        "to_clean = ['price','service fee']\n",
        "for clmn in to_clean:\n",
        "  df[clmn] = df[clmn].str.replace('$','',regex=False)\n",
        "  df[clmn] = df[clmn].str.replace(',','',regex=False)\n",
        "  df[clmn] = df[clmn].astype(float)"
      ],
      "metadata": {
        "id": "CGUoTTCe842U"
      },
      "execution_count": 71,
      "outputs": []
    },
    {
      "cell_type": "code",
      "source": [
        "df.info()"
      ],
      "metadata": {
        "colab": {
          "base_uri": "https://localhost:8080/"
        },
        "id": "JRqCLI7I966L",
        "outputId": "0542e7a0-38e2-424a-e9b0-086bb1cf70d2"
      },
      "execution_count": 72,
      "outputs": [
        {
          "output_type": "stream",
          "name": "stdout",
          "text": [
            "<class 'pandas.core.frame.DataFrame'>\n",
            "RangeIndex: 102599 entries, 0 to 102598\n",
            "Data columns (total 13 columns):\n",
            " #   Column                  Non-Null Count   Dtype  \n",
            "---  ------                  --------------   -----  \n",
            " 0   host_identity_verified  102310 non-null  object \n",
            " 1   neighbourhood group     102570 non-null  object \n",
            " 2   neighbourhood           102583 non-null  object \n",
            " 3   instant_bookable        102494 non-null  object \n",
            " 4   cancellation_policy     102523 non-null  object \n",
            " 5   room type               102599 non-null  object \n",
            " 6   Construction year       102385 non-null  float64\n",
            " 7   price                   102352 non-null  float64\n",
            " 8   service fee             102326 non-null  float64\n",
            " 9   minimum nights          102190 non-null  float64\n",
            " 10  number of reviews       102416 non-null  float64\n",
            " 11  review rate number      102273 non-null  float64\n",
            " 12  availability 365        102151 non-null  float64\n",
            "dtypes: float64(7), object(6)\n",
            "memory usage: 10.2+ MB\n"
          ]
        }
      ]
    },
    {
      "cell_type": "code",
      "source": [
        "df['price'].fillna(df['price'].mean(),inplace=True)\n",
        "df['service fee'].fillna(df['service fee'].mean(),inplace=True)"
      ],
      "metadata": {
        "id": "iLGRCjvD97h4",
        "colab": {
          "base_uri": "https://localhost:8080/"
        },
        "outputId": "1e6088f8-8b69-4199-be98-3d43b2e2e402"
      },
      "execution_count": 73,
      "outputs": [
        {
          "output_type": "stream",
          "name": "stderr",
          "text": [
            "<ipython-input-73-df7e7aafc3fa>:1: FutureWarning: A value is trying to be set on a copy of a DataFrame or Series through chained assignment using an inplace method.\n",
            "The behavior will change in pandas 3.0. This inplace method will never work because the intermediate object on which we are setting values always behaves as a copy.\n",
            "\n",
            "For example, when doing 'df[col].method(value, inplace=True)', try using 'df.method({col: value}, inplace=True)' or df[col] = df[col].method(value) instead, to perform the operation inplace on the original object.\n",
            "\n",
            "\n",
            "  df['price'].fillna(df['price'].mean(),inplace=True)\n",
            "<ipython-input-73-df7e7aafc3fa>:2: FutureWarning: A value is trying to be set on a copy of a DataFrame or Series through chained assignment using an inplace method.\n",
            "The behavior will change in pandas 3.0. This inplace method will never work because the intermediate object on which we are setting values always behaves as a copy.\n",
            "\n",
            "For example, when doing 'df[col].method(value, inplace=True)', try using 'df.method({col: value}, inplace=True)' or df[col] = df[col].method(value) instead, to perform the operation inplace on the original object.\n",
            "\n",
            "\n",
            "  df['service fee'].fillna(df['service fee'].mean(),inplace=True)\n"
          ]
        }
      ]
    },
    {
      "cell_type": "code",
      "source": [
        "df['host_identity_verified'].isnull().sum()"
      ],
      "metadata": {
        "colab": {
          "base_uri": "https://localhost:8080/"
        },
        "id": "AJIYjMqNOQvU",
        "outputId": "86944d5e-ea12-428b-c7db-b719c890edb9"
      },
      "execution_count": 74,
      "outputs": [
        {
          "output_type": "execute_result",
          "data": {
            "text/plain": [
              "289"
            ]
          },
          "metadata": {},
          "execution_count": 74
        }
      ]
    },
    {
      "cell_type": "code",
      "source": [
        "not_change = [\"price\",\"service fee\"]\n",
        "change = [col for col in df.columns if col not in not_change]\n",
        "for col in change:\n",
        "  df[col].fillna(df[col].mode()[0],inplace=True)"
      ],
      "metadata": {
        "colab": {
          "base_uri": "https://localhost:8080/"
        },
        "id": "J-2Apsuv-YKD",
        "outputId": "7f12bc80-cbbe-479a-98e2-70ab945983a5"
      },
      "execution_count": 75,
      "outputs": [
        {
          "output_type": "stream",
          "name": "stderr",
          "text": [
            "<ipython-input-75-4674c8dd20ea>:4: FutureWarning: A value is trying to be set on a copy of a DataFrame or Series through chained assignment using an inplace method.\n",
            "The behavior will change in pandas 3.0. This inplace method will never work because the intermediate object on which we are setting values always behaves as a copy.\n",
            "\n",
            "For example, when doing 'df[col].method(value, inplace=True)', try using 'df.method({col: value}, inplace=True)' or df[col] = df[col].method(value) instead, to perform the operation inplace on the original object.\n",
            "\n",
            "\n",
            "  df[col].fillna(df[col].mode()[0],inplace=True)\n",
            "<ipython-input-75-4674c8dd20ea>:4: FutureWarning: Downcasting object dtype arrays on .fillna, .ffill, .bfill is deprecated and will change in a future version. Call result.infer_objects(copy=False) instead. To opt-in to the future behavior, set `pd.set_option('future.no_silent_downcasting', True)`\n",
            "  df[col].fillna(df[col].mode()[0],inplace=True)\n"
          ]
        }
      ]
    },
    {
      "cell_type": "code",
      "source": [
        "df['host_identity_verified'].isnull().sum()"
      ],
      "metadata": {
        "id": "Sxk_qL2z-osH",
        "colab": {
          "base_uri": "https://localhost:8080/"
        },
        "outputId": "7aa11268-a933-46a9-f24c-9bc3deb0a5f9"
      },
      "execution_count": 76,
      "outputs": [
        {
          "output_type": "execute_result",
          "data": {
            "text/plain": [
              "0"
            ]
          },
          "metadata": {},
          "execution_count": 76
        }
      ]
    },
    {
      "cell_type": "code",
      "source": [
        "df.drop_duplicates(inplace=True)"
      ],
      "metadata": {
        "id": "buGP7_utOdDU"
      },
      "execution_count": 77,
      "outputs": []
    },
    {
      "cell_type": "code",
      "source": [
        "df.isnull().sum()"
      ],
      "metadata": {
        "colab": {
          "base_uri": "https://localhost:8080/",
          "height": 492
        },
        "id": "SJNcE6DPOeXy",
        "outputId": "dcb73179-4f75-4a33-b8d9-9af6a70378db"
      },
      "execution_count": 91,
      "outputs": [
        {
          "output_type": "execute_result",
          "data": {
            "text/plain": [
              "host_identity_verified    0\n",
              "neighbourhood group       0\n",
              "neighbourhood             0\n",
              "instant_bookable          0\n",
              "cancellation_policy       0\n",
              "room type                 0\n",
              "Construction year         0\n",
              "price                     0\n",
              "service fee               0\n",
              "minimum nights            0\n",
              "number of reviews         0\n",
              "review rate number        0\n",
              "availability 365          0\n",
              "dtype: int64"
            ],
            "text/html": [
              "<div>\n",
              "<style scoped>\n",
              "    .dataframe tbody tr th:only-of-type {\n",
              "        vertical-align: middle;\n",
              "    }\n",
              "\n",
              "    .dataframe tbody tr th {\n",
              "        vertical-align: top;\n",
              "    }\n",
              "\n",
              "    .dataframe thead th {\n",
              "        text-align: right;\n",
              "    }\n",
              "</style>\n",
              "<table border=\"1\" class=\"dataframe\">\n",
              "  <thead>\n",
              "    <tr style=\"text-align: right;\">\n",
              "      <th></th>\n",
              "      <th>0</th>\n",
              "    </tr>\n",
              "  </thead>\n",
              "  <tbody>\n",
              "    <tr>\n",
              "      <th>host_identity_verified</th>\n",
              "      <td>0</td>\n",
              "    </tr>\n",
              "    <tr>\n",
              "      <th>neighbourhood group</th>\n",
              "      <td>0</td>\n",
              "    </tr>\n",
              "    <tr>\n",
              "      <th>neighbourhood</th>\n",
              "      <td>0</td>\n",
              "    </tr>\n",
              "    <tr>\n",
              "      <th>instant_bookable</th>\n",
              "      <td>0</td>\n",
              "    </tr>\n",
              "    <tr>\n",
              "      <th>cancellation_policy</th>\n",
              "      <td>0</td>\n",
              "    </tr>\n",
              "    <tr>\n",
              "      <th>room type</th>\n",
              "      <td>0</td>\n",
              "    </tr>\n",
              "    <tr>\n",
              "      <th>Construction year</th>\n",
              "      <td>0</td>\n",
              "    </tr>\n",
              "    <tr>\n",
              "      <th>price</th>\n",
              "      <td>0</td>\n",
              "    </tr>\n",
              "    <tr>\n",
              "      <th>service fee</th>\n",
              "      <td>0</td>\n",
              "    </tr>\n",
              "    <tr>\n",
              "      <th>minimum nights</th>\n",
              "      <td>0</td>\n",
              "    </tr>\n",
              "    <tr>\n",
              "      <th>number of reviews</th>\n",
              "      <td>0</td>\n",
              "    </tr>\n",
              "    <tr>\n",
              "      <th>review rate number</th>\n",
              "      <td>0</td>\n",
              "    </tr>\n",
              "    <tr>\n",
              "      <th>availability 365</th>\n",
              "      <td>0</td>\n",
              "    </tr>\n",
              "  </tbody>\n",
              "</table>\n",
              "</div><br><label><b>dtype:</b> int64</label>"
            ]
          },
          "metadata": {},
          "execution_count": 91
        }
      ]
    },
    {
      "cell_type": "code",
      "source": [
        "df['Construction year'].plot(kind=\"hist\")\n",
        "plt.xlabel(\"Construction year\")\n",
        "plt.ylabel(\"Frequency\")"
      ],
      "metadata": {
        "colab": {
          "base_uri": "https://localhost:8080/",
          "height": 466
        },
        "id": "tHYpOvhHPHqt",
        "outputId": "e32bb02e-43d8-4c62-92c5-5760cdce829f"
      },
      "execution_count": 120,
      "outputs": [
        {
          "output_type": "execute_result",
          "data": {
            "text/plain": [
              "Text(0, 0.5, 'Frequency')"
            ]
          },
          "metadata": {},
          "execution_count": 120
        },
        {
          "output_type": "display_data",
          "data": {
            "text/plain": [
              "<Figure size 640x480 with 1 Axes>"
            ],
            "image/png": "[encoded data removed]"
          },
          "metadata": {}
        }
      ]
    },
    {
      "cell_type": "code",
      "source": [
        "df['price'].plot(kind='hist')\n",
        "plt.xlabel(\"price\")\n",
        "plt.ylabel(\"Frequency\")"
      ],
      "metadata": {
        "colab": {
          "base_uri": "https://localhost:8080/",
          "height": 466
        },
        "id": "FRcRGefNQOw2",
        "outputId": "135941a0-5b5a-43a9-b5fc-5ea81427e3f6"
      },
      "execution_count": 119,
      "outputs": [
        {
          "output_type": "execute_result",
          "data": {
            "text/plain": [
              "Text(0, 0.5, 'Frequency')"
            ]
          },
          "metadata": {},
          "execution_count": 119
        },
        {
          "output_type": "display_data",
          "data": {
            "text/plain": [
              "<Figure size 640x480 with 1 Axes>"
            ],
            "image/png": "[encoded data removed]"
          },
          "metadata": {}
        }
      ]
    },
    {
      "cell_type": "code",
      "source": [
        "df['service fee'].plot(kind='hist')\n",
        "plt.xlabel(\"service fee\")\n",
        "plt.ylabel(\"Frequency\")"
      ],
      "metadata": {
        "colab": {
          "base_uri": "https://localhost:8080/",
          "height": 466
        },
        "id": "xGr9HFkMRDOd",
        "outputId": "0ac9b6fa-11b6-45f6-f5dd-1c63a946b1eb"
      },
      "execution_count": 118,
      "outputs": [
        {
          "output_type": "execute_result",
          "data": {
            "text/plain": [
              "Text(0, 0.5, 'Frequency')"
            ]
          },
          "metadata": {},
          "execution_count": 118
        },
        {
          "output_type": "display_data",
          "data": {
            "text/plain": [
              "<Figure size 640x480 with 1 Axes>"
            ],
            "image/png": "[encoded data removed]"
          },
          "metadata": {}
        }
      ]
    },
    {
      "cell_type": "code",
      "source": [
        "df['number of reviews'].plot(kind='hist')\n",
        "plt.xlabel(\"number of reviews\")\n",
        "plt.ylabel(\"Frequency\")"
      ],
      "metadata": {
        "colab": {
          "base_uri": "https://localhost:8080/",
          "height": 466
        },
        "id": "c3ViN1pTRI6u",
        "outputId": "e981e280-23d3-40f5-be47-b05503dc084d"
      },
      "execution_count": 117,
      "outputs": [
        {
          "output_type": "execute_result",
          "data": {
            "text/plain": [
              "Text(0, 0.5, 'Frequency')"
            ]
          },
          "metadata": {},
          "execution_count": 117
        },
        {
          "output_type": "display_data",
          "data": {
            "text/plain": [
              "<Figure size 640x480 with 1 Axes>"
            ],
            "image/png": "[encoded data removed]"
          },
          "metadata": {}
        }
      ]
    },
    {
      "cell_type": "code",
      "source": [
        "df['availability 365'].plot(kind='hist')\n",
        "plt.xlabel(\"availability 365\")\n",
        "plt.ylabel(\"Frequency\")"
      ],
      "metadata": {
        "colab": {
          "base_uri": "https://localhost:8080/",
          "height": 466
        },
        "id": "V_5rYUYfRP75",
        "outputId": "3da84517-bada-4c13-dabb-43b06c8bf244"
      },
      "execution_count": 116,
      "outputs": [
        {
          "output_type": "execute_result",
          "data": {
            "text/plain": [
              "Text(0, 0.5, 'Frequency')"
            ]
          },
          "metadata": {},
          "execution_count": 116
        },
        {
          "output_type": "display_data",
          "data": {
            "text/plain": [
              "<Figure size 640x480 with 1 Axes>"
            ],
            "image/png": "[encoded data removed]"
          },
          "metadata": {}
        }
      ]
    },
    {
      "cell_type": "code",
      "source": [
        "sns.boxplot(data=df['price'])"
      ],
      "metadata": {
        "colab": {
          "base_uri": "https://localhost:8080/",
          "height": 429
        },
        "id": "EXlf5WGoTCW7",
        "outputId": "08dd09fa-8610-4541-a3eb-48d384446286"
      },
      "execution_count": 102,
      "outputs": [
        {
          "output_type": "execute_result",
          "data": {
            "text/plain": [
              "<Axes: ylabel='price'>"
            ]
          },
          "metadata": {},
          "execution_count": 102
        },
        {
          "output_type": "display_data",
          "data": {
            "text/plain": [
              "<Figure size 640x480 with 1 Axes>"
            ],
            "image/png": "[encoded data removed]"
          },
          "metadata": {}
        }
      ]
    },
    {
      "cell_type": "code",
      "source": [
        "sns.boxplot(data=df['service fee'])"
      ],
      "metadata": {
        "colab": {
          "base_uri": "https://localhost:8080/",
          "height": 433
        },
        "id": "BASwwVHsT6Fz",
        "outputId": "21ace577-4953-44dd-c5f6-5f27b7d7fc13"
      },
      "execution_count": 103,
      "outputs": [
        {
          "output_type": "execute_result",
          "data": {
            "text/plain": [
              "<Axes: ylabel='service fee'>"
            ]
          },
          "metadata": {},
          "execution_count": 103
        },
        {
          "output_type": "display_data",
          "data": {
            "text/plain": [
              "<Figure size 640x480 with 1 Axes>"
            ],
            "image/png": "[encoded data removed]"
          },
          "metadata": {}
        }
      ]
    },
    {
      "cell_type": "code",
      "source": [
        "sns.boxplot(data=df['minimum nights'])"
      ],
      "metadata": {
        "colab": {
          "base_uri": "https://localhost:8080/",
          "height": 428
        },
        "id": "ZfnY4v6zUDYB",
        "outputId": "851a9e1e-b904-4f0b-da19-a2261708e756"
      },
      "execution_count": 104,
      "outputs": [
        {
          "output_type": "execute_result",
          "data": {
            "text/plain": [
              "<Axes: ylabel='minimum nights'>"
            ]
          },
          "metadata": {},
          "execution_count": 104
        },
        {
          "output_type": "display_data",
          "data": {
            "text/plain": [
              "<Figure size 640x480 with 1 Axes>"
            ],
            "image/png": "[encoded data removed]"
          },
          "metadata": {}
        }
      ]
    },
    {
      "cell_type": "code",
      "source": [],
      "metadata": {
        "id": "6jWU_1wRUNst"
      },
      "execution_count": 131,
      "outputs": []
    },
    {
      "source": [
        "df.plot(kind='scatter', x='service fee', y='minimum nights')"
      ],
      "cell_type": "code",
      "execution_count": 115,
      "outputs": [
        {
          "output_type": "execute_result",
          "data": {
            "text/plain": [
              "<Axes: xlabel='service fee', ylabel='minimum nights'>"
            ]
          },
          "metadata": {},
          "execution_count": 115
        },
        {
          "output_type": "display_data",
          "data": {
            "text/plain": [
              "<Figure size 640x480 with 1 Axes>"
            ],
            "image/png": "[encoded data removed]"
          },
          "metadata": {}
        }
      ],
      "metadata": {
        "colab": {
          "base_uri": "https://localhost:8080/",
          "height": 466
        },
        "id": "ueVWEfOeUwYR",
        "outputId": "ca53ba26-15d9-490a-a4c3-8c79e03802f2"
      }
    },
    {
      "cell_type": "code",
      "source": [
        "df['minimum nights'].plot(kind='line',title='minimum nights')"
      ],
      "metadata": {
        "colab": {
          "base_uri": "https://localhost:8080/",
          "height": 469
        },
        "id": "IWodbB2CUpKi",
        "outputId": "c03071b3-d0bf-412e-e071-c6daa2869c18"
      },
      "execution_count": 114,
      "outputs": [
        {
          "output_type": "execute_result",
          "data": {
            "text/plain": [
              "<Axes: title={'center': 'minimum nights'}>"
            ]
          },
          "metadata": {},
          "execution_count": 114
        },
        {
          "output_type": "display_data",
          "data": {
            "text/plain": [
              "<Figure size 640x480 with 1 Axes>"
            ],
            "image/png": "[encoded data removed]"
          },
          "metadata": {}
        }
      ]
    },
    {
      "cell_type": "code",
      "source": [
        "class DataBase(ABC):\n",
        "  @abstractmethod\n",
        "  def add_new_string(self):\n",
        "    pass\n",
        "  @abstractmethod\n",
        "  def remove_string(self):\n",
        "    pass\n",
        "  @abstractmethod\n",
        "  def change_values(self):\n",
        "    pass\n",
        "  @abstractmethod\n",
        "  def read(self):\n",
        "    pass\n",
        "  @abstractmethod\n",
        "  def save(self):\n",
        "    pass"
      ],
      "metadata": {
        "id": "YyWDimLjVbil"
      },
      "execution_count": 128,
      "outputs": []
    },
    {
      "cell_type": "code",
      "source": [
        "class HotelDB(DataBase):\n",
        "  def __init__(self):\n",
        "    self.df = pd.DataFrame()\n",
        "  def read(self,path):\n",
        "    try:\n",
        "      self.df = pd.read_csv(path)\n",
        "      return f\"File {path} was successfully read\"\n",
        "    except:\n",
        "      return f\"No exist file on path - {path} or path is invalid\"\n",
        "  def save(self,filename):\n",
        "    df.to_csv(filename)\n",
        "  def add_new_string(self,row):\n",
        "    try:\n",
        "      key = self.df.columns.to_list()\n",
        "      row1 = pd.Series(row,index=key)\n",
        "      self.df = pd.concat([df,row1.to_frame().T],ignore_index=True)\n",
        "      return f\"Successfully added new string\"\n",
        "    except Exception as e:\n",
        "      return f\"Sorry, but {e} please check your string\"\n",
        "  def remove_string(self,index):\n",
        "    try:\n",
        "      df.drop(index,inplace=True)\n",
        "      return f\"Successfully removed string with index {index}\"\n",
        "    except:\n",
        "      return f\"No match index {index}\"\n",
        "  def change_values(self,num_str,num_bin,value):\n",
        "    try:\n",
        "      df.iloc[num_str,num_bin] = value\n",
        "    except Exception as e:\n",
        "      return f\"Sorry {e} check your indexes\""
      ],
      "metadata": {
        "id": "DpAboQRiWWFr"
      },
      "execution_count": null,
      "outputs": []
    }
  ]
}