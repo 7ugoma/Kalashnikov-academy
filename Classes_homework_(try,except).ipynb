{
  "nbformat": 4,
  "nbformat_minor": 0,
  "metadata": {
    "colab": {
      "provenance": []
    },
    "kernelspec": {
      "name": "python3",
      "display_name": "Python 3"
    },
    "language_info": {
      "name": "python"
    }
  },
  "cells": [
    {
      "cell_type": "code",
      "execution_count": 3,
      "metadata": {
        "colab": {
          "base_uri": "https://localhost:8080/"
        },
        "id": "jHOIhANNA02F",
        "outputId": "27efd162-51d7-43e3-c84d-13a1715ef4c0"
      },
      "outputs": [
        {
          "output_type": "stream",
          "name": "stdout",
          "text": [
            "Введите элементы списка через пробел: 1 2 3 4 5 6 у 7\n",
            "Значение ''у'' не является числом. Пожалуйста, вводите только числа.\n",
            "Введите элементы списка через пробел: 1 2.5 3 567\n",
            "\n",
            "Выберите операцию:\n",
            "1. Вывести список\n",
            "2. Вычислить сумму всех элементов\n",
            "3. Ввести новый список\n",
            "4. Завершить программу\n",
            "Введите номер операции: 2\n",
            "Сумма всех элементов списка: 573.5\n",
            "\n",
            "Выберите операцию:\n",
            "1. Вывести список\n",
            "2. Вычислить сумму всех элементов\n",
            "3. Ввести новый список\n",
            "4. Завершить программу\n",
            "Введите номер операции: 3\n",
            "Введите новый список:\n",
            "Введите элементы списка через пробел: 4\n",
            "\n",
            "Выберите операцию:\n",
            "1. Вывести список\n",
            "2. Вычислить сумму всех элементов\n",
            "3. Ввести новый список\n",
            "4. Завершить программу\n",
            "Введите номер операции: 4\n",
            "Завершение программы.\n"
          ]
        }
      ],
      "source": [
        "class ListOperation:\n",
        "    def __init__(self):\n",
        "        self.user_list = []\n",
        "\n",
        "    def get_input(self):\n",
        "        while True:\n",
        "            try:\n",
        "                user_input = input(\"Введите элементы списка через пробел: \")\n",
        "                self.user_list = list(map(float, user_input.split()))\n",
        "                break\n",
        "            except ValueError as e:\n",
        "                error_value = str(e).split(\":\")[1].strip()\n",
        "                print(f\"Значение '{error_value}' не является числом. Пожалуйста, вводите только числа.\")\n",
        "\n",
        "    def calculate_sum(self):\n",
        "        return sum(self.user_list)\n",
        "\n",
        "    def print_list(self):\n",
        "        print(f\"Ваш список: {self.user_list}\")\n",
        "\n",
        "    def perform_operation(self):\n",
        "        while True:\n",
        "            print(\"\\nВыберите операцию:\")\n",
        "            print(\"1. Вывести список\")\n",
        "            print(\"2. Вычислить сумму всех элементов\")\n",
        "            print(\"3. Ввести новый список\")\n",
        "            print(\"4. Завершить программу\")\n",
        "\n",
        "            try:\n",
        "                choice = int(input(\"Введите номер операции: \"))\n",
        "                if choice == 1:\n",
        "                    self.print_list()\n",
        "                elif choice == 2:\n",
        "                    total_sum = self.calculate_sum()\n",
        "                    print(f\"Сумма всех элементов списка: {total_sum}\")\n",
        "                elif choice == 3:\n",
        "                    print(\"Введите новый список:\")\n",
        "                    self.get_input()\n",
        "                elif choice == 4:\n",
        "                    print(\"Завершение программы.\")\n",
        "                    break\n",
        "                else:\n",
        "                    print(\"Пожалуйста, выберите число от 1 до 4.\")\n",
        "            except ValueError:\n",
        "                print(\"Пожалуйста, вводите целое  число для выбора операции.\")\n",
        "\n",
        "if __name__ == \"__main__\":\n",
        "    operation = ListOperation()\n",
        "    operation.get_input()\n",
        "    operation.perform_operation()\n"
      ]
    }
  ]
}