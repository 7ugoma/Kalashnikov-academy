{
  "nbformat": 4,
  "nbformat_minor": 0,
  "metadata": {
    "colab": {
      "provenance": []
    },
    "kernelspec": {
      "name": "python3",
      "display_name": "Python 3"
    },
    "language_info": {
      "name": "python"
    }
  },
  "cells": [
    {
      "cell_type": "code",
      "execution_count": null,
      "metadata": {
        "id": "GxOLFcE6XeQR"
      },
      "outputs": [],
      "source": [
        "from abc import ABC, abstractmethod"
      ]
    },
    {
      "cell_type": "code",
      "source": [
        "class Animal(ABC):\n",
        "  @abstractmethod\n",
        "  def make_sound(self):\n",
        "    pass\n",
        "  @abstractmethod\n",
        "  def add_relationships(self):\n",
        "    pass"
      ],
      "metadata": {
        "id": "YmX02lPdX_LX"
      },
      "execution_count": null,
      "outputs": []
    },
    {
      "cell_type": "code",
      "source": [
        "class Spider(Animal):\n",
        "  def __init__(self,color,name,special_features):\n",
        "    self.color = color\n",
        "    self.name = name\n",
        "    self.legs = 8\n",
        "    self.eyes = 8\n",
        "    self.special_features = list(map(lambda f:f.lower(), filter(lambda x: isinstance(x,str),special_features)))\n",
        "    self.habits = []\n",
        "    self.relationships = {\"enemy\":[],\n",
        "                          \"neutral\":[],\n",
        "                          \"friend\":[]}\n",
        "  def make_sound(self):\n",
        "    print(\"Shhhhhhh\")\n",
        "  def add_relationships(self,relationship,animal):\n",
        "    try:\n",
        "      self.relationships[relationship.lower()].append(animal.lower())\n",
        "      return f\"Added relationship {relationship.lower()} to animal - {animal.lower()}\"\n",
        "    except KeyError:\n",
        "      return f'This animal does not have a relationship called {relationship.lower()}.\\n Current relationships are {list(map(lambda x:x.lower(),self.relationships.keys()))}.'\n",
        "    except AttributeError:\n",
        "      return f\"The relation or animal you entered is not a string\"\n",
        "  def add_habits(self,habit):\n",
        "    try:\n",
        "      self.habits.append(habit.lower())\n",
        "      return f\"Habit - {habit.lower()} has been added in list of habits\"\n",
        "    except:\n",
        "      return f\"The value you entered is not a string\"\n",
        "  def print_relationships(self):\n",
        "    for i in self.relationships:\n",
        "      print(i.capitalize(),*list(map(lambda x:x.capitalize(),self.relationships[i])))"
      ],
      "metadata": {
        "id": "Y2qezGh9YQWb"
      },
      "execution_count": null,
      "outputs": []
    },
    {
      "cell_type": "code",
      "source": [
        "class Dog(Animal):\n",
        "  def __init__(self,color,name,special_features):\n",
        "    self.color = color\n",
        "    self.name = name\n",
        "    self.legs = 4\n",
        "    self.eyes = 2\n",
        "    self.special_features = list(map(lambda f:f.lower(), filter(lambda x: isinstance(x,str),special_features)))\n",
        "    self.habits = []\n",
        "    self.relationships = {\"enemy\":[],\n",
        "                          \"neutral\":[],\n",
        "                          \"friend\":[]}\n",
        "  def make_sound(self):\n",
        "      print(\"Bark Bark\")\n",
        "  def add_relationships(self,relationship,animal):\n",
        "    try:\n",
        "      self.relationships[relationship.lower()].append(animal.lower())\n",
        "      return f\"Added relationship {relationship.lower()} to animal - {animal.lower()}\"\n",
        "    except KeyError:\n",
        "      return f'This animal does not have a relationship called {relationship.lower()}.\\n Current relationships are {list(map(lambda x:x.lower(),self.relationships.keys()))}.'\n",
        "    except AttributeError:\n",
        "      return f\"The relation or animal you entered is not a string\"\n",
        "  def add_habits(self,habit):\n",
        "    try:\n",
        "      self.habits.append(habit.lower())\n",
        "      return f\"Habit - {habit.lower()} has been added in list of habits\"\n",
        "    except:\n",
        "      return f\"The value you entered is not a string\"\n",
        "  def print_relationships(self):\n",
        "    for i in self.relationships:\n",
        "      print(i.capitalize(),*list(map(lambda x:x.capitalize(),self.relationships[i])))"
      ],
      "metadata": {
        "id": "7XSDAD63dbUC"
      },
      "execution_count": null,
      "outputs": []
    },
    {
      "cell_type": "code",
      "source": [
        "tom = Dog(\"black\",\"Tom\",[\"spot on right ear\"])\n",
        "tom.add_habits(\"run to the ball\")\n",
        "tom.add_relationships(\"Enemy\",\"Cat\")\n",
        "tom.add_relationships(\"Friend\",\"Dog\")\n",
        "tom.print_relationships()\n",
        "print(*tom.special_features)"
      ],
      "metadata": {
        "colab": {
          "base_uri": "https://localhost:8080/"
        },
        "id": "4WGnPVTxkjlo",
        "outputId": "cc779929-94aa-4667-e5d9-e08e3f291d59"
      },
      "execution_count": null,
      "outputs": [
        {
          "output_type": "stream",
          "name": "stdout",
          "text": [
            "Enemy Cat\n",
            "Neutral\n",
            "Friend Dog\n",
            "spot on right ear\n"
          ]
        }
      ]
    },
    {
      "cell_type": "code",
      "source": [],
      "metadata": {
        "id": "BdoDgHcLk690"
      },
      "execution_count": null,
      "outputs": []
    }
  ]
}